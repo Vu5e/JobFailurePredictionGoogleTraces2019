{
 "cells": [
  {
   "cell_type": "markdown",
   "id": "68a583eb-8588-456e-98ef-610818311f8b",
   "metadata": {},
   "source": [
    "### Instance_Usage 2019 Dataset Append"
   ]
  },
  {
   "cell_type": "code",
   "execution_count": 1,
   "id": "178bda84-e062-422a-9c51-e78626a59a50",
   "metadata": {},
   "outputs": [],
   "source": [
    "import dask.dataframe as dd\n",
    "import pandas as pd\n",
    "import matplotlib.pyplot as plt\n",
    "import seaborn as sns"
   ]
  },
  {
   "cell_type": "markdown",
   "id": "8751e7cb-a2ed-4cbe-a935-084aa5ab3202",
   "metadata": {},
   "source": [
    "### Collection_Events_A 2019 Dataset Read"
   ]
  },
  {
   "cell_type": "code",
   "execution_count": 2,
   "id": "53ade494-8bd0-48eb-b532-02c8f2f35f8e",
   "metadata": {},
   "outputs": [],
   "source": [
    "collection_events0_a = dd.read_csv('Dataset/collection_events/collection_events_0_2019_a.csv', assume_missing = True)\n",
    "collection_events1_a = dd.read_csv('Dataset/collection_events/collection_events_1_2019_a.csv', assume_missing = True)\n",
    "collection_events2_a = dd.read_csv('Dataset/collection_events/collection_events_2_2019_a.csv', assume_missing = True)\n",
    "collection_events3_a = dd.read_csv('Dataset/collection_events/collection_events_3_2019_a.csv', assume_missing = True)\n",
    "collection_events4_a = dd.read_csv('Dataset/collection_events/collection_events_4_2019_a.csv', assume_missing = True)\n",
    "collection_events5_a = dd.read_csv('Dataset/collection_events/collection_events_5_2019_a.csv', assume_missing = True)\n",
    "collection_events6_a = dd.read_csv('Dataset/collection_events/collection_events_6_2019_a.csv', assume_missing = True)\n",
    "collection_events7_a = dd.read_csv('Dataset/collection_events/collection_events_7_2019_a.csv', assume_missing = True)\n",
    "collection_events8_a = dd.read_csv('Dataset/collection_events/collection_events_8_2019_a.csv', assume_missing = True)\n",
    "collection_events9_a = dd.read_csv('Dataset/collection_events/collection_events_9_2019_a.csv', assume_missing = True)"
   ]
  },
  {
   "cell_type": "markdown",
   "id": "8f6953a6-ece3-47cf-8427-d219330fd092",
   "metadata": {},
   "source": [
    "### Collection_Events_B 2019 Dataset Read"
   ]
  },
  {
   "cell_type": "code",
   "execution_count": 3,
   "id": "ab6f634a-323d-4a55-ba8f-d9054b33abc8",
   "metadata": {},
   "outputs": [],
   "source": [
    "collection_events0_b = dd.read_csv('Dataset/collection_events/collection_events_0_2019_b.csv', assume_missing = True)\n",
    "collection_events1_b = dd.read_csv('Dataset/collection_events/collection_events_1_2019_b.csv', assume_missing = True)\n",
    "collection_events2_b = dd.read_csv('Dataset/collection_events/collection_events_2_2019_b.csv', assume_missing = True)\n",
    "collection_events3_b = dd.read_csv('Dataset/collection_events/collection_events_3_2019_b.csv', assume_missing = True)"
   ]
  },
  {
   "cell_type": "markdown",
   "id": "5334e315-562b-4cae-af45-1d1a87e042a0",
   "metadata": {},
   "source": [
    "### Collection_Events_C 2019 Dataset Read"
   ]
  },
  {
   "cell_type": "code",
   "execution_count": 4,
   "id": "78d384d8-d770-43fd-b632-21da7b23b95c",
   "metadata": {},
   "outputs": [],
   "source": [
    "collection_events0_c = dd.read_csv('Dataset/collection_events/collection_events_0_2019_c.csv', assume_missing = True)\n",
    "collection_events1_c = dd.read_csv('Dataset/collection_events/collection_events_1_2019_c.csv', assume_missing = True)\n",
    "collection_events2_c = dd.read_csv('Dataset/collection_events/collection_events_2_2019_c.csv', assume_missing = True)\n",
    "collection_events3_c = dd.read_csv('Dataset/collection_events/collection_events_3_2019_c.csv', assume_missing = True)\n",
    "collection_events4_c = dd.read_csv('Dataset/collection_events/collection_events_4_2019_c.csv', assume_missing = True)\n",
    "collection_events5_c = dd.read_csv('Dataset/collection_events/collection_events_5_2019_c.csv', assume_missing = True)\n",
    "collection_events6_c = dd.read_csv('Dataset/collection_events/collection_events_6_2019_c.csv', assume_missing = True)\n",
    "collection_events7_c = dd.read_csv('Dataset/collection_events/collection_events_7_2019_c.csv', assume_missing = True)\n",
    "collection_events8_c = dd.read_csv('Dataset/collection_events/collection_events_8_2019_c.csv', assume_missing = True)\n",
    "collection_events9_c = dd.read_csv('Dataset/collection_events/collection_events_9_2019_c.csv', assume_missing = True)"
   ]
  },
  {
   "cell_type": "markdown",
   "id": "e9576df7-75fc-4d77-8d11-9b13fe0a806b",
   "metadata": {},
   "source": [
    "### Collection_Events_D 2019 Dataset Read"
   ]
  },
  {
   "cell_type": "code",
   "execution_count": 5,
   "id": "9e214964-7916-462f-a04b-ed180029b520",
   "metadata": {},
   "outputs": [],
   "source": [
    "collection_events0_d = dd.read_csv('Dataset/collection_events/collection_events_0_2019_d.csv', assume_missing = True)\n",
    "collection_events1_d = dd.read_csv('Dataset/collection_events/collection_events_1_2019_d.csv', assume_missing = True)\n",
    "collection_events2_d = dd.read_csv('Dataset/collection_events/collection_events_2_2019_d.csv', assume_missing = True)\n",
    "collection_events3_d = dd.read_csv('Dataset/collection_events/collection_events_3_2019_d.csv', assume_missing = True)\n",
    "collection_events4_d = dd.read_csv('Dataset/collection_events/collection_events_4_2019_d.csv', assume_missing = True)"
   ]
  },
  {
   "cell_type": "markdown",
   "id": "bd1e3ece-be4f-4c31-a9f8-fcf94323e289",
   "metadata": {},
   "source": [
    "### Collection_Events_E 2019 Dataset Read"
   ]
  },
  {
   "cell_type": "code",
   "execution_count": 6,
   "id": "39f02ddb-a09f-4e99-8ca7-8acefb15001d",
   "metadata": {},
   "outputs": [],
   "source": [
    "collection_events0_e = dd.read_csv('Dataset/collection_events/collection_events_0_2019_e.csv', assume_missing = True)"
   ]
  },
  {
   "cell_type": "markdown",
   "id": "acf9e528-2816-4999-9b84-9367fa3fb9dd",
   "metadata": {},
   "source": [
    "### Collection_Events_F 2019 Dataset Read"
   ]
  },
  {
   "cell_type": "code",
   "execution_count": 7,
   "id": "d41554e3-93b6-4e34-813d-b26c9d338348",
   "metadata": {},
   "outputs": [],
   "source": [
    "collection_events0_f = dd.read_csv('Dataset/collection_events/collection_events_0_2019_f.csv', assume_missing = True)"
   ]
  },
  {
   "cell_type": "markdown",
   "id": "c0a256e7-eb32-4403-8813-c7e73bd0f592",
   "metadata": {},
   "source": [
    "### Collection_Events_G 2019 Dataset Read"
   ]
  },
  {
   "cell_type": "code",
   "execution_count": 8,
   "id": "ee70bba9-9ea1-4761-ad84-1840594260c5",
   "metadata": {},
   "outputs": [],
   "source": [
    "collection_events0_g = dd.read_csv('Dataset/collection_events/collection_events_0_2019_g.csv', assume_missing = True)"
   ]
  },
  {
   "cell_type": "markdown",
   "id": "530d4913-7c33-485e-a317-f6f9935d1477",
   "metadata": {},
   "source": [
    "### Collection_Events_H 2019 Dataset Read"
   ]
  },
  {
   "cell_type": "code",
   "execution_count": 9,
   "id": "972cd887-a3bc-4b9c-abaa-f4f7c6eeac39",
   "metadata": {},
   "outputs": [],
   "source": [
    "collection_events0_h = dd.read_csv('Dataset/collection_events/collection_events_0_2019_h.csv', assume_missing = True)"
   ]
  },
  {
   "cell_type": "markdown",
   "id": "d0113be7-be58-4b0a-a98d-54a2c9aa8b15",
   "metadata": {},
   "source": [
    "### Collection_Events_A 2019 Dataset Append Compute"
   ]
  },
  {
   "cell_type": "code",
   "execution_count": 10,
   "id": "61f77227-ced6-4324-a1bd-472548e914e8",
   "metadata": {},
   "outputs": [],
   "source": [
    "coll_events_a = dd.concat([collection_events0_a, collection_events1_a, collection_events2_a, collection_events3_a, collection_events4_a, collection_events5_a, collection_events6_a, collection_events7_a, \n",
    "                         collection_events8_a, collection_events9_a])"
   ]
  },
  {
   "cell_type": "code",
   "execution_count": 11,
   "id": "4226cce6-8ff5-49f8-87d4-5d788fec530d",
   "metadata": {},
   "outputs": [
    {
     "name": "stdout",
     "output_type": "stream",
     "text": [
      "Number of Rows For Collection_Events_A :  19247804\n"
     ]
    },
    {
     "data": {
      "text/plain": [
       "time                          19247804\n",
       "type                          19247804\n",
       "collection_id                 19247804\n",
       "priority                      19247804\n",
       "vertical_scaling              19247773\n",
       "scheduler                     19247773\n",
       "scheduling_class              19247804\n",
       "missing_type                       455\n",
       "collection_type               19247804\n",
       "alloc_collection_id             451868\n",
       "user                          19247804\n",
       "collection_name               19247804\n",
       "collection_logical_name       19247804\n",
       "parent_collection_id          12308560\n",
       "start_after_collection_ids    16656389\n",
       "max_per_machine                 127925\n",
       "max_per_switch                   63402\n",
       "dtype: int64"
      ]
     },
     "execution_count": 11,
     "metadata": {},
     "output_type": "execute_result"
    }
   ],
   "source": [
    "print('Number of Rows For Collection_Events_A : ', len(coll_events_a))\n",
    "coll_events_a.count().compute()"
   ]
  },
  {
   "cell_type": "code",
   "execution_count": 12,
   "id": "738a2e01-7e90-40ce-ab1b-7cd07a858e1b",
   "metadata": {},
   "outputs": [
    {
     "data": {
      "text/plain": [
       "['F:/Files/TraceDataset/Output/Dataset/Append Dataset/collection_events/append_coll_events_a.csv']"
      ]
     },
     "execution_count": 12,
     "metadata": {},
     "output_type": "execute_result"
    }
   ],
   "source": [
    "coll_events_a.to_csv('Dataset/Append Dataset/collection_events/append_coll_events_a.csv', single_file = True)"
   ]
  },
  {
   "cell_type": "markdown",
   "id": "c55de31b-d947-4121-b252-85ea9b2f403d",
   "metadata": {},
   "source": [
    "### Collection_Events_B 2019 Dataset Append Compute"
   ]
  },
  {
   "cell_type": "code",
   "execution_count": 13,
   "id": "1457ed7a-81e7-4eb9-969e-32e1b343750b",
   "metadata": {},
   "outputs": [],
   "source": [
    "coll_events_b = dd.concat([collection_events0_b, collection_events1_b, collection_events2_b, collection_events3_b])"
   ]
  },
  {
   "cell_type": "code",
   "execution_count": 14,
   "id": "dcb89a3d-caf3-4ecd-9088-1579a2e80cda",
   "metadata": {},
   "outputs": [
    {
     "name": "stdout",
     "output_type": "stream",
     "text": [
      "Number of Rows For Collection_Events_B :  6531497\n"
     ]
    },
    {
     "data": {
      "text/plain": [
       "time                          6531497\n",
       "type                          6531497\n",
       "collection_id                 6531497\n",
       "vertical_scaling              6531493\n",
       "scheduler                     6531493\n",
       "priority                      6531497\n",
       "scheduling_class              6531497\n",
       "collection_type               6531497\n",
       "alloc_collection_id            317185\n",
       "user                          6531497\n",
       "collection_name               6531497\n",
       "collection_logical_name       6531497\n",
       "parent_collection_id          3032345\n",
       "start_after_collection_ids    4093178\n",
       "max_per_machine                 36276\n",
       "dtype: int64"
      ]
     },
     "execution_count": 14,
     "metadata": {},
     "output_type": "execute_result"
    }
   ],
   "source": [
    "print('Number of Rows For Collection_Events_B : ', len(coll_events_b))\n",
    "coll_events_b.count().compute()"
   ]
  },
  {
   "cell_type": "code",
   "execution_count": 15,
   "id": "553bf853-1289-4754-8d47-7577144369d4",
   "metadata": {},
   "outputs": [
    {
     "data": {
      "text/plain": [
       "['F:/Files/TraceDataset/Output/Dataset/Append Dataset/collection_events/append_coll_events_b.csv']"
      ]
     },
     "execution_count": 15,
     "metadata": {},
     "output_type": "execute_result"
    }
   ],
   "source": [
    "coll_events_b.to_csv('Dataset/Append Dataset/collection_events/append_coll_events_b.csv', single_file = True)"
   ]
  },
  {
   "cell_type": "markdown",
   "id": "546cd959-b049-46b9-9770-e973c66545c6",
   "metadata": {},
   "source": [
    "### Collection_Events_C 2019 Dataset Append Compute"
   ]
  },
  {
   "cell_type": "code",
   "execution_count": 16,
   "id": "59d589a7-479d-4434-9d20-90111f622549",
   "metadata": {},
   "outputs": [],
   "source": [
    "coll_events_c = dd.concat([collection_events0_c, collection_events1_c, collection_events2_c, collection_events3_c, collection_events4_c, collection_events5_c, collection_events6_c, collection_events7_c, \n",
    "                          collection_events8_c, collection_events9_c])"
   ]
  },
  {
   "cell_type": "code",
   "execution_count": 17,
   "id": "61746db8-fab2-47b5-b027-4aa6d2bf50a3",
   "metadata": {},
   "outputs": [
    {
     "name": "stdout",
     "output_type": "stream",
     "text": [
      "Number of Rows For Collection_Events_C :  20446899\n"
     ]
    },
    {
     "data": {
      "text/plain": [
       "time                          20446899\n",
       "type                          20446899\n",
       "collection_id                 20446899\n",
       "priority                      20446899\n",
       "vertical_scaling              20446884\n",
       "scheduler                     20446884\n",
       "scheduling_class              20446899\n",
       "collection_type               20446899\n",
       "alloc_collection_id            1165873\n",
       "user                          20446899\n",
       "collection_name               20446899\n",
       "collection_logical_name       20446899\n",
       "parent_collection_id           3695266\n",
       "start_after_collection_ids    17798258\n",
       "max_per_machine                 196632\n",
       "max_per_switch                   31412\n",
       "dtype: int64"
      ]
     },
     "execution_count": 17,
     "metadata": {},
     "output_type": "execute_result"
    }
   ],
   "source": [
    "print('Number of Rows For Collection_Events_C : ', len(coll_events_c))\n",
    "coll_events_c.count().compute()"
   ]
  },
  {
   "cell_type": "code",
   "execution_count": 18,
   "id": "06b2d736-b80d-4143-afb6-5b69e6af8c7e",
   "metadata": {},
   "outputs": [
    {
     "data": {
      "text/plain": [
       "['F:/Files/TraceDataset/Output/Dataset/Append Dataset/collection_events/append_coll_events_c.csv']"
      ]
     },
     "execution_count": 18,
     "metadata": {},
     "output_type": "execute_result"
    }
   ],
   "source": [
    "coll_events_c.to_csv('Dataset/Append Dataset/collection_events/append_coll_events_c.csv', single_file = True)"
   ]
  },
  {
   "cell_type": "markdown",
   "id": "79a497cc-a986-409b-9595-f2258807a955",
   "metadata": {},
   "source": [
    "### Collection_Events_D 2019 Dataset Append Compute"
   ]
  },
  {
   "cell_type": "code",
   "execution_count": 19,
   "id": "2f087941-de58-4042-9a70-5934aae0ab3c",
   "metadata": {},
   "outputs": [],
   "source": [
    "coll_events_d = dd.concat([collection_events0_d, collection_events1_d, collection_events2_d, collection_events3_d, collection_events4_d])"
   ]
  },
  {
   "cell_type": "code",
   "execution_count": 20,
   "id": "e088e372-673e-4930-a736-aa6351417d6b",
   "metadata": {},
   "outputs": [
    {
     "name": "stdout",
     "output_type": "stream",
     "text": [
      "Number of Rows For Collection_Events_D :  9556148\n"
     ]
    },
    {
     "data": {
      "text/plain": [
       "time                          9556148\n",
       "type                          9556148\n",
       "collection_id                 9556148\n",
       "priority                      9556148\n",
       "vertical_scaling              9556141\n",
       "scheduler                     9556141\n",
       "scheduling_class              9556148\n",
       "collection_type               9556148\n",
       "alloc_collection_id            959576\n",
       "user                          9556148\n",
       "collection_name               9556148\n",
       "collection_logical_name       9556148\n",
       "parent_collection_id          2597137\n",
       "start_after_collection_ids    9021599\n",
       "max_per_machine                181881\n",
       "max_per_switch                  67288\n",
       "dtype: int64"
      ]
     },
     "execution_count": 20,
     "metadata": {},
     "output_type": "execute_result"
    }
   ],
   "source": [
    "print('Number of Rows For Collection_Events_D : ', len(coll_events_d))\n",
    "coll_events_d.count().compute()"
   ]
  },
  {
   "cell_type": "code",
   "execution_count": 21,
   "id": "3dbf0f19-ef3b-4a6f-8136-4efe7e07f8fe",
   "metadata": {},
   "outputs": [
    {
     "data": {
      "text/plain": [
       "['F:/Files/TraceDataset/Output/Dataset/Append Dataset/collection_events/append_coll_events_d.csv']"
      ]
     },
     "execution_count": 21,
     "metadata": {},
     "output_type": "execute_result"
    }
   ],
   "source": [
    "coll_events_d.to_csv('Dataset/Append Dataset/collection_events/append_coll_events_d.csv', single_file = True)"
   ]
  },
  {
   "cell_type": "markdown",
   "id": "7f932739-86a0-4085-9b53-b126ef12e6e7",
   "metadata": {},
   "source": [
    "### Collection_Events_E 2019 Dataset Compute"
   ]
  },
  {
   "cell_type": "code",
   "execution_count": 23,
   "id": "2774a843-c6bb-470a-8e4f-ac8519d14ed3",
   "metadata": {},
   "outputs": [
    {
     "name": "stdout",
     "output_type": "stream",
     "text": [
      "Number of Rows For Collection_Events_E :  1305391\n"
     ]
    },
    {
     "data": {
      "text/plain": [
       "time                          1305391\n",
       "type                          1305391\n",
       "collection_id                 1305391\n",
       "priority                      1305391\n",
       "vertical_scaling              1305391\n",
       "scheduler                     1305391\n",
       "scheduling_class              1305391\n",
       "collection_type               1305391\n",
       "alloc_collection_id            101950\n",
       "user                          1305391\n",
       "collection_name               1305391\n",
       "collection_logical_name       1305391\n",
       "parent_collection_id           266726\n",
       "start_after_collection_ids       9447\n",
       "max_per_machine                123974\n",
       "max_per_switch                  46320\n",
       "dtype: int64"
      ]
     },
     "execution_count": 23,
     "metadata": {},
     "output_type": "execute_result"
    }
   ],
   "source": [
    "print('Number of Rows For Collection_Events_E : ', len(collection_events0_e))\n",
    "collection_events0_e.count().compute()"
   ]
  },
  {
   "cell_type": "code",
   "execution_count": 24,
   "id": "24342925-51e3-40fb-8ab3-6cbb4b1bb7ea",
   "metadata": {},
   "outputs": [
    {
     "data": {
      "text/plain": [
       "['F:/Files/TraceDataset/Output/Dataset/Append Dataset/collection_events/append_coll_events_e.csv']"
      ]
     },
     "execution_count": 24,
     "metadata": {},
     "output_type": "execute_result"
    }
   ],
   "source": [
    "collection_events0_e.to_csv('Dataset/Append Dataset/collection_events/append_coll_events_e.csv', single_file = True)"
   ]
  },
  {
   "cell_type": "markdown",
   "id": "2754412b-3b96-48da-97b0-954435cdb4d1",
   "metadata": {},
   "source": [
    "### Collection_Events_F 2019 Dataset Compute"
   ]
  },
  {
   "cell_type": "code",
   "execution_count": 25,
   "id": "cb1844c4-646a-462c-a6ce-0372d11c6757",
   "metadata": {},
   "outputs": [
    {
     "name": "stdout",
     "output_type": "stream",
     "text": [
      "Number of Rows For Collection_Events_F :  1270942\n"
     ]
    },
    {
     "data": {
      "text/plain": [
       "time                          1270942\n",
       "type                          1270942\n",
       "collection_id                 1270942\n",
       "priority                      1270942\n",
       "vertical_scaling              1270942\n",
       "scheduler                     1270942\n",
       "scheduling_class              1270942\n",
       "collection_type               1270942\n",
       "alloc_collection_id             72890\n",
       "user                          1270942\n",
       "collection_name               1270942\n",
       "collection_logical_name       1270942\n",
       "parent_collection_id           218197\n",
       "start_after_collection_ids      19267\n",
       "max_per_machine                 16918\n",
       "dtype: int64"
      ]
     },
     "execution_count": 25,
     "metadata": {},
     "output_type": "execute_result"
    }
   ],
   "source": [
    "print('Number of Rows For Collection_Events_F : ', len(collection_events0_f))\n",
    "collection_events0_f.count().compute()"
   ]
  },
  {
   "cell_type": "code",
   "execution_count": 26,
   "id": "9d941af9-a73e-467e-9221-510583b7851b",
   "metadata": {},
   "outputs": [
    {
     "data": {
      "text/plain": [
       "['F:/Files/TraceDataset/Output/Dataset/Append Dataset/collection_events/append_coll_events_f.csv']"
      ]
     },
     "execution_count": 26,
     "metadata": {},
     "output_type": "execute_result"
    }
   ],
   "source": [
    "collection_events0_f.to_csv('Dataset/Append Dataset/collection_events/append_coll_events_f.csv', single_file = True)"
   ]
  },
  {
   "cell_type": "markdown",
   "id": "541bc60e-91d6-4f48-a0cd-056db4f47c25",
   "metadata": {},
   "source": [
    "### Collection_Events_G 2019 Dataset Compute"
   ]
  },
  {
   "cell_type": "code",
   "execution_count": 27,
   "id": "6ea65420-b6dc-40c5-8160-f2e385566b0d",
   "metadata": {},
   "outputs": [
    {
     "name": "stdout",
     "output_type": "stream",
     "text": [
      "Number of Rows For Collection_Events_G :  1015507\n"
     ]
    },
    {
     "data": {
      "text/plain": [
       "time                          1015507\n",
       "type                          1015507\n",
       "collection_id                 1015507\n",
       "priority                      1015507\n",
       "vertical_scaling              1015507\n",
       "scheduler                     1015507\n",
       "scheduling_class              1015507\n",
       "collection_type               1015507\n",
       "alloc_collection_id            140141\n",
       "user                          1015507\n",
       "collection_name               1015507\n",
       "collection_logical_name       1015507\n",
       "parent_collection_id            71750\n",
       "start_after_collection_ids        774\n",
       "max_per_machine                212323\n",
       "dtype: int64"
      ]
     },
     "execution_count": 27,
     "metadata": {},
     "output_type": "execute_result"
    }
   ],
   "source": [
    "print('Number of Rows For Collection_Events_G : ', len(collection_events0_g))\n",
    "collection_events0_g.count().compute()"
   ]
  },
  {
   "cell_type": "code",
   "execution_count": 28,
   "id": "faee6488-0356-4010-8e42-f171443b143a",
   "metadata": {},
   "outputs": [
    {
     "data": {
      "text/plain": [
       "['F:/Files/TraceDataset/Output/Dataset/Append Dataset/collection_events/append_coll_events_g.csv']"
      ]
     },
     "execution_count": 28,
     "metadata": {},
     "output_type": "execute_result"
    }
   ],
   "source": [
    "collection_events0_g.to_csv('Dataset/Append Dataset/collection_events/append_coll_events_g.csv', single_file = True)"
   ]
  },
  {
   "cell_type": "markdown",
   "id": "7e9d79cc-5fa6-4be3-a241-beeda39c25be",
   "metadata": {},
   "source": [
    "### Collection_Events_H 2019 Dataset Compute"
   ]
  },
  {
   "cell_type": "code",
   "execution_count": 29,
   "id": "f9899a7a-0033-44dd-a191-c7e54b7f67d6",
   "metadata": {},
   "outputs": [
    {
     "name": "stdout",
     "output_type": "stream",
     "text": [
      "Number of Rows For Collection_Events_H :  3279638\n"
     ]
    },
    {
     "data": {
      "text/plain": [
       "time                          3279638\n",
       "type                          3279638\n",
       "collection_id                 3279638\n",
       "priority                      3279638\n",
       "vertical_scaling              3279638\n",
       "scheduler                     3279638\n",
       "scheduling_class              3279638\n",
       "collection_type               3279638\n",
       "alloc_collection_id           2438027\n",
       "user                          3279638\n",
       "collection_name               3279638\n",
       "collection_logical_name       3279638\n",
       "parent_collection_id            94589\n",
       "start_after_collection_ids      14789\n",
       "max_per_machine                 12563\n",
       "dtype: int64"
      ]
     },
     "execution_count": 29,
     "metadata": {},
     "output_type": "execute_result"
    }
   ],
   "source": [
    "print('Number of Rows For Collection_Events_H : ', len(collection_events0_h))\n",
    "collection_events0_h.count().compute()"
   ]
  },
  {
   "cell_type": "code",
   "execution_count": 30,
   "id": "eec39827-0f9f-48f1-81bc-d74a86a6e5fc",
   "metadata": {},
   "outputs": [
    {
     "data": {
      "text/plain": [
       "['F:/Files/TraceDataset/Output/Dataset/Append Dataset/collection_events/append_coll_events_h.csv']"
      ]
     },
     "execution_count": 30,
     "metadata": {},
     "output_type": "execute_result"
    }
   ],
   "source": [
    "collection_events0_h.to_csv('Dataset/Append Dataset/collection_events/append_coll_events_h.csv', single_file = True)"
   ]
  },
  {
   "cell_type": "markdown",
   "id": "7e91ad49-a1eb-4cd4-8055-1fd82e94cbc0",
   "metadata": {},
   "source": [
    "### Collection_Events_All 2019 Append Dataset Compute"
   ]
  },
  {
   "cell_type": "code",
   "execution_count": 32,
   "id": "0bd282e2-d0e7-4ba7-84ac-71bb84934977",
   "metadata": {},
   "outputs": [],
   "source": [
    "coll_events = dd.concat([coll_events_a, coll_events_b, coll_events_c, coll_events_d, collection_events0_e, collection_events0_f, collection_events0_g, collection_events0_h])"
   ]
  },
  {
   "cell_type": "code",
   "execution_count": 33,
   "id": "98e44fea-e9ac-4f83-95dd-55062931e0b9",
   "metadata": {},
   "outputs": [
    {
     "name": "stdout",
     "output_type": "stream",
     "text": [
      "Number of Rows For Collection_Events_All :  62653826\n"
     ]
    },
    {
     "data": {
      "text/plain": [
       "time                          62653826\n",
       "type                          62653826\n",
       "collection_id                 62653826\n",
       "priority                      62653826\n",
       "vertical_scaling              62653769\n",
       "scheduler                     62653769\n",
       "scheduling_class              62653826\n",
       "missing_type                       455\n",
       "collection_type               62653826\n",
       "alloc_collection_id            5647510\n",
       "user                          62653826\n",
       "collection_name               62653826\n",
       "collection_logical_name       62653826\n",
       "parent_collection_id          22284570\n",
       "start_after_collection_ids    47613701\n",
       "max_per_machine                 908492\n",
       "max_per_switch                  208422\n",
       "dtype: int64"
      ]
     },
     "execution_count": 33,
     "metadata": {},
     "output_type": "execute_result"
    }
   ],
   "source": [
    "print('Number of Rows For Collection_Events_All : ', len(coll_events))\n",
    "coll_events.count().compute()"
   ]
  },
  {
   "cell_type": "code",
   "execution_count": 34,
   "id": "210008db-d0c4-4ee2-aff5-be2da4df4b3d",
   "metadata": {},
   "outputs": [
    {
     "data": {
      "text/plain": [
       "['F:/Files/TraceDataset/Output/Dataset/Append Dataset/collection_events/append_collection_events.csv']"
      ]
     },
     "execution_count": 34,
     "metadata": {},
     "output_type": "execute_result"
    }
   ],
   "source": [
    "coll_events.to_csv('Dataset/Append Dataset/collection_events/append_collection_events.csv', single_file = True)"
   ]
  },
  {
   "cell_type": "markdown",
   "id": "15dae166-9dec-476c-a6b8-3333475017dd",
   "metadata": {},
   "source": [
    "### Instance_Event_A 2019 Dataset Read"
   ]
  },
  {
   "cell_type": "code",
   "execution_count": 2,
   "id": "9572acaa-14d2-4726-9d9b-99a879431244",
   "metadata": {},
   "outputs": [],
   "source": [
    "instance_events0_a = dd.read_csv('Dataset/instance_events/instance_events_0_2019_a.csv', assume_missing = True, dtype={'constraint.name': 'object', 'constraint.value': 'object', 'constraint.relation': 'object', 'constraint': 'object'})\n",
    "instance_events1_a = dd.read_csv('Dataset/instance_events/instance_events_1_2019_a.csv', assume_missing = True, dtype={'constraint.name': 'object', 'constraint.value': 'object', 'constraint.relation': 'object', 'constraint': 'object'})\n",
    "instance_events2_a = dd.read_csv('Dataset/instance_events/instance_events_2_2019_a.csv', assume_missing = True, dtype={'constraint.name': 'object', 'constraint.value': 'object', 'constraint.relation': 'object', 'constraint': 'object'})\n",
    "instance_events3_a = dd.read_csv('Dataset/instance_events/instance_events_3_2019_a.csv', assume_missing = True, dtype={'constraint.name': 'object', 'constraint.value': 'object', 'constraint.relation': 'object', 'constraint': 'object'})\n",
    "instance_events4_a = dd.read_csv('Dataset/instance_events/instance_events_4_2019_a.csv', assume_missing = True, dtype={'constraint.name': 'object', 'constraint.value': 'object', 'constraint.relation': 'object', 'constraint': 'object'})"
   ]
  },
  {
   "cell_type": "markdown",
   "id": "f45da0e1-216a-487a-a90c-617ca1ab4dcf",
   "metadata": {},
   "source": [
    "### Instance_Event_B 2019 Dataset Read"
   ]
  },
  {
   "cell_type": "code",
   "execution_count": 3,
   "id": "3cb20f6a-b455-4d5b-8139-08c486a73da5",
   "metadata": {},
   "outputs": [],
   "source": [
    "instance_events0_b = dd.read_csv('Dataset/instance_events/instance_events_0_2019_b.csv', assume_missing = True, dtype={'constraint.name': 'object', 'constraint.value': 'object', 'constraint.relation': 'object', 'constraint': 'object'})\n",
    "instance_events1_b = dd.read_csv('Dataset/instance_events/instance_events_1_2019_b.csv', assume_missing = True, dtype={'constraint.name': 'object', 'constraint.value': 'object', 'constraint.relation': 'object', 'constraint': 'object'})\n",
    "instance_events2_b = dd.read_csv('Dataset/instance_events/instance_events_2_2019_b.csv', assume_missing = True, dtype={'constraint.name': 'object', 'constraint.value': 'object', 'constraint.relation': 'object', 'constraint': 'object'})\n",
    "instance_events3_b = dd.read_csv('Dataset/instance_events/instance_events_3_2019_b.csv', assume_missing = True, dtype={'constraint.name': 'object', 'constraint.value': 'object', 'constraint.relation': 'object', 'constraint': 'object'})"
   ]
  },
  {
   "cell_type": "markdown",
   "id": "6ef438b8-67c1-4342-9240-9d09c73b33e4",
   "metadata": {},
   "source": [
    "### Instance_Event_C 2019 Dataset Read"
   ]
  },
  {
   "cell_type": "code",
   "execution_count": 4,
   "id": "8a5bb046-391d-4c6e-b38d-911d53c5ade8",
   "metadata": {},
   "outputs": [],
   "source": [
    "instance_events0_c = dd.read_csv('Dataset/instance_events/instance_events_0_2019_c.csv', assume_missing = True, dtype={'constraint.name': 'object', 'constraint.value': 'object', 'constraint.relation': 'object', 'constraint': 'object'})\n",
    "instance_events1_c = dd.read_csv('Dataset/instance_events/instance_events_1_2019_c.csv', assume_missing = True, dtype={'constraint.name': 'object', 'constraint.value': 'object', 'constraint.relation': 'object', 'constraint': 'object'})\n",
    "instance_events2_c = dd.read_csv('Dataset/instance_events/instance_events_2_2019_c.csv', assume_missing = True, dtype={'constraint.name': 'object', 'constraint.value': 'object', 'constraint.relation': 'object', 'constraint': 'object'})\n",
    "instance_events3_c = dd.read_csv('Dataset/instance_events/instance_events_3_2019_c.csv', assume_missing = True, dtype={'constraint.name': 'object', 'constraint.value': 'object', 'constraint.relation': 'object', 'constraint': 'object'})\n",
    "instance_events4_c = dd.read_csv('Dataset/instance_events/instance_events_4_2019_c.csv', assume_missing = True, dtype={'constraint.name': 'object', 'constraint.value': 'object', 'constraint.relation': 'object', 'constraint': 'object'})"
   ]
  },
  {
   "cell_type": "markdown",
   "id": "07f9a0ed-3dde-4324-8d51-a1e8221405ac",
   "metadata": {},
   "source": [
    "### Instance_Event_D 2019 Dataset Read"
   ]
  },
  {
   "cell_type": "code",
   "execution_count": 5,
   "id": "934fa830-e48c-4aeb-8bae-5bdff0c5e864",
   "metadata": {},
   "outputs": [],
   "source": [
    "instance_events0_d = dd.read_csv('Dataset/instance_events/instance_events_0_2019_d.csv', assume_missing = True, dtype={'constraint.name': 'object', 'constraint.value': 'object', 'constraint.relation': 'object', 'constraint': 'object'})\n",
    "instance_events1_d = dd.read_csv('Dataset/instance_events/instance_events_1_2019_d.csv', assume_missing = True, dtype={'constraint.name': 'object', 'constraint.value': 'object', 'constraint.relation': 'object', 'constraint': 'object'})\n",
    "instance_events2_d = dd.read_csv('Dataset/instance_events/instance_events_2_2019_d.csv', assume_missing = True, dtype={'constraint.name': 'object', 'constraint.value': 'object', 'constraint.relation': 'object', 'constraint': 'object'})\n",
    "instance_events3_d = dd.read_csv('Dataset/instance_events/instance_events_3_2019_d.csv', assume_missing = True, dtype={'constraint.name': 'object', 'constraint.value': 'object', 'constraint.relation': 'object', 'constraint': 'object'})\n",
    "instance_events4_d = dd.read_csv('Dataset/instance_events/instance_events_4_2019_d.csv', assume_missing = True, dtype={'constraint.name': 'object', 'constraint.value': 'object', 'constraint.relation': 'object', 'constraint': 'object'})"
   ]
  },
  {
   "cell_type": "markdown",
   "id": "4c55d324-fba7-4fcb-8c43-17c711dc2e20",
   "metadata": {},
   "source": [
    "### Instance_Event_E 2019 Dataset Read"
   ]
  },
  {
   "cell_type": "code",
   "execution_count": 6,
   "id": "38f5dc85-3085-47e8-890c-3c957e41a4e0",
   "metadata": {},
   "outputs": [],
   "source": [
    "instance_events0_e = dd.read_csv('Dataset/instance_events/instance_events_0_2019_e.csv', assume_missing = True, dtype={'constraint.name': 'object', 'constraint.value': 'object', 'constraint.relation': 'object', 'constraint': 'object'})\n",
    "instance_events1_e = dd.read_csv('Dataset/instance_events/instance_events_1_2019_e.csv', assume_missing = True, dtype={'constraint.name': 'object', 'constraint.value': 'object', 'constraint.relation': 'object', 'constraint': 'object'})\n",
    "instance_events2_e = dd.read_csv('Dataset/instance_events/instance_events_2_2019_e.csv', assume_missing = True, dtype={'constraint.name': 'object', 'constraint.value': 'object', 'constraint.relation': 'object', 'constraint': 'object'})\n",
    "instance_events3_e = dd.read_csv('Dataset/instance_events/instance_events_3_2019_e.csv', assume_missing = True, dtype={'constraint.name': 'object', 'constraint.value': 'object', 'constraint.relation': 'object', 'constraint': 'object'})"
   ]
  },
  {
   "cell_type": "markdown",
   "id": "e6fc13d6-559f-4486-9e93-eb71019520de",
   "metadata": {},
   "source": [
    "### Instance_Event_F 2019 Dataset Read"
   ]
  },
  {
   "cell_type": "code",
   "execution_count": 7,
   "id": "845bf92a-4bb6-421b-94b3-cfd4cf3dc7bd",
   "metadata": {},
   "outputs": [],
   "source": [
    "instance_events0_f = dd.read_csv('Dataset/instance_events/instance_events_0_2019_f.csv', assume_missing = True, dtype={'constraint.name': 'object', 'constraint.value': 'object', 'constraint.relation': 'object', 'constraint': 'object'})\n",
    "instance_events1_f = dd.read_csv('Dataset/instance_events/instance_events_1_2019_f.csv', assume_missing = True, dtype={'constraint.name': 'object', 'constraint.value': 'object', 'constraint.relation': 'object', 'constraint': 'object'})\n",
    "instance_events2_f = dd.read_csv('Dataset/instance_events/instance_events_2_2019_f.csv', assume_missing = True, dtype={'constraint.name': 'object', 'constraint.value': 'object', 'constraint.relation': 'object', 'constraint': 'object'})\n",
    "instance_events3_f = dd.read_csv('Dataset/instance_events/instance_events_3_2019_f.csv', assume_missing = True, dtype={'constraint.name': 'object', 'constraint.value': 'object', 'constraint.relation': 'object', 'constraint': 'object'})\n",
    "instance_events4_f = dd.read_csv('Dataset/instance_events/instance_events_4_2019_f.csv', assume_missing = True, dtype={'constraint.name': 'object', 'constraint.value': 'object', 'constraint.relation': 'object', 'constraint': 'object'})\n",
    "instance_events5_f = dd.read_csv('Dataset/instance_events/instance_events_5_2019_f.csv', assume_missing = True, dtype={'constraint.name': 'object', 'constraint.value': 'object', 'constraint.relation': 'object', 'constraint': 'object'})"
   ]
  },
  {
   "cell_type": "markdown",
   "id": "ddf07e97-6d87-41cb-8d18-eb52b66f8d18",
   "metadata": {},
   "source": [
    "### Instance_Event_G 2019 Dataset Read"
   ]
  },
  {
   "cell_type": "code",
   "execution_count": 8,
   "id": "ce067aca-8da8-4502-8651-4ba024cb2d5c",
   "metadata": {},
   "outputs": [],
   "source": [
    "instance_events0_g = dd.read_csv('Dataset/instance_events/instance_events_0_2019_g.csv', assume_missing = True, dtype={'constraint.name': 'object', 'constraint.value': 'object', 'constraint.relation': 'object', 'constraint': 'object'})\n",
    "instance_events1_g = dd.read_csv('Dataset/instance_events/instance_events_1_2019_g.csv', assume_missing = True, dtype={'constraint.name': 'object', 'constraint.value': 'object', 'constraint.relation': 'object', 'constraint': 'object'})\n",
    "instance_events2_g = dd.read_csv('Dataset/instance_events/instance_events_2_2019_g.csv', assume_missing = True, dtype={'constraint.name': 'object', 'constraint.value': 'object', 'constraint.relation': 'object', 'constraint': 'object'})"
   ]
  },
  {
   "cell_type": "markdown",
   "id": "f9cfe7af-273c-40b5-b6ba-cdb228e1bb60",
   "metadata": {},
   "source": [
    "### Instance_Event_H 2019 Dataset Read"
   ]
  },
  {
   "cell_type": "code",
   "execution_count": 9,
   "id": "0f6108c8-7a64-4e5c-93c1-28939a50a3b3",
   "metadata": {},
   "outputs": [],
   "source": [
    "instance_events0_h = dd.read_csv('Dataset/instance_events/instance_events_0_2019_h.csv', assume_missing = True, dtype={'constraint.name': 'object', 'constraint.value': 'object', 'constraint.relation': 'object', 'constraint': 'object'})\n",
    "instance_events1_h = dd.read_csv('Dataset/instance_events/instance_events_1_2019_h.csv', assume_missing = True, dtype={'constraint.name': 'object', 'constraint.value': 'object', 'constraint.relation': 'object', 'constraint': 'object'})\n",
    "instance_events2_h = dd.read_csv('Dataset/instance_events/instance_events_2_2019_h.csv', assume_missing = True, dtype={'constraint.name': 'object', 'constraint.value': 'object', 'constraint.relation': 'object', 'constraint': 'object'})\n",
    "instance_events3_h = dd.read_csv('Dataset/instance_events/instance_events_3_2019_h.csv', assume_missing = True, dtype={'constraint.name': 'object', 'constraint.value': 'object', 'constraint.relation': 'object', 'constraint': 'object'})\n",
    "instance_events4_h = dd.read_csv('Dataset/instance_events/instance_events_4_2019_h.csv', assume_missing = True, dtype={'constraint.name': 'object', 'constraint.value': 'object', 'constraint.relation': 'object', 'constraint': 'object'})\n",
    "instance_events5_h = dd.read_csv('Dataset/instance_events/instance_events_5_2019_h.csv', assume_missing = True, dtype={'constraint.name': 'object', 'constraint.value': 'object', 'constraint.relation': 'object', 'constraint': 'object'})\n",
    "instance_events6_h = dd.read_csv('Dataset/instance_events/instance_events_6_2019_h.csv', assume_missing = True, dtype={'constraint.name': 'object', 'constraint.value': 'object', 'constraint.relation': 'object', 'constraint': 'object'})\n",
    "instance_events7_h = dd.read_csv('Dataset/instance_events/instance_events_7_2019_h.csv', assume_missing = True, dtype={'constraint.name': 'object', 'constraint.value': 'object', 'constraint.relation': 'object', 'constraint': 'object'})\n",
    "instance_events8_h = dd.read_csv('Dataset/instance_events/instance_events_8_2019_h.csv', assume_missing = True, dtype={'constraint.name': 'object', 'constraint.value': 'object', 'constraint.relation': 'object', 'constraint': 'object'})\n",
    "instance_events9_h = dd.read_csv('Dataset/instance_events/instance_events_9_2019_h.csv', assume_missing = True, dtype={'constraint.name': 'object', 'constraint.value': 'object', 'constraint.relation': 'object', 'constraint': 'object'})"
   ]
  },
  {
   "cell_type": "markdown",
   "id": "585e0124-552f-4e74-969b-3608ac4e0aaa",
   "metadata": {},
   "source": [
    "### Instance_Events_A 2019 Dataset Append Compute"
   ]
  },
  {
   "cell_type": "code",
   "execution_count": 10,
   "id": "486067e1-9603-425a-b1bd-4398d3911d67",
   "metadata": {},
   "outputs": [],
   "source": [
    "inst_events_a = dd.concat([instance_events0_a, instance_events1_a, instance_events2_a, instance_events3_a, instance_events4_a])"
   ]
  },
  {
   "cell_type": "code",
   "execution_count": 11,
   "id": "8e25c338-0bff-49fd-9486-bb525ad164bb",
   "metadata": {},
   "outputs": [],
   "source": [
    "inst_events_a = inst_events_a.drop(columns=['constraint'])"
   ]
  },
  {
   "cell_type": "code",
   "execution_count": 12,
   "id": "11421ea6-5be2-4454-b509-389da887b105",
   "metadata": {},
   "outputs": [
    {
     "name": "stdout",
     "output_type": "stream",
     "text": [
      "Number of Rows of Collections_Events_A:  99723918\n"
     ]
    },
    {
     "data": {
      "text/plain": [
       "time                       99723918\n",
       "type                       99723918\n",
       "collection_id              99723918\n",
       "priority                   99723918\n",
       "resource_request.cpus      99722280\n",
       "resource_request.memory    99722280\n",
       "scheduling_class           99723918\n",
       "missing_type                 405320\n",
       "collection_type            99723918\n",
       "alloc_collection_id        99723918\n",
       "instance_index             99723918\n",
       "machine_id                 50035644\n",
       "alloc_instance_index       88762707\n",
       "dtype: int64"
      ]
     },
     "execution_count": 12,
     "metadata": {},
     "output_type": "execute_result"
    }
   ],
   "source": [
    "print('Number of Rows of Collections_Events_A: ', len(inst_events_a))\n",
    "inst_events_a.count().compute()"
   ]
  },
  {
   "cell_type": "markdown",
   "id": "02907290-fdae-405c-a8ab-ecba4b901226",
   "metadata": {},
   "source": [
    "### Instance_Events_B 2019 Dataset Append Compute"
   ]
  },
  {
   "cell_type": "code",
   "execution_count": 13,
   "id": "0970bbe4-1b3b-4602-9bdf-7f744018fe05",
   "metadata": {},
   "outputs": [],
   "source": [
    "inst_events_b = dd.concat([instance_events0_b, instance_events1_b, instance_events2_b, instance_events3_b])"
   ]
  },
  {
   "cell_type": "code",
   "execution_count": 14,
   "id": "04a08a6b-700e-4707-ae3c-0f1c2851a573",
   "metadata": {},
   "outputs": [],
   "source": [
    "inst_events_b = inst_events_b.drop(columns=['constraint'])"
   ]
  },
  {
   "cell_type": "code",
   "execution_count": 15,
   "id": "2d7a66a9-16c1-4afd-8d91-fe25c2c4ef89",
   "metadata": {},
   "outputs": [
    {
     "name": "stdout",
     "output_type": "stream",
     "text": [
      "Number of Rows of Collections_Events_B:  92083722\n"
     ]
    },
    {
     "data": {
      "text/plain": [
       "time                       92083722\n",
       "type                       92083722\n",
       "collection_id              92083722\n",
       "priority                   92083722\n",
       "resource_request.cpus      92079155\n",
       "resource_request.memory    92079155\n",
       "scheduling_class           92083722\n",
       "missing_type                 124924\n",
       "collection_type            92083722\n",
       "alloc_collection_id        92083722\n",
       "instance_index             92083722\n",
       "machine_id                 49601511\n",
       "alloc_instance_index       86994654\n",
       "dtype: int64"
      ]
     },
     "execution_count": 15,
     "metadata": {},
     "output_type": "execute_result"
    }
   ],
   "source": [
    "print('Number of Rows of Collections_Events_B: ', len(inst_events_b))\n",
    "inst_events_b.count().compute()"
   ]
  },
  {
   "cell_type": "markdown",
   "id": "aea2cce9-fbd0-46bb-9ee7-257236eed315",
   "metadata": {},
   "source": [
    "### Instance_Events_C 2019 Dataset Append Compute"
   ]
  },
  {
   "cell_type": "code",
   "execution_count": 16,
   "id": "6ee6da70-b233-4111-a40e-8873f8731f90",
   "metadata": {},
   "outputs": [],
   "source": [
    "inst_events_c = dd.concat([instance_events0_c, instance_events1_c, instance_events2_c, instance_events3_c, instance_events4_c])"
   ]
  },
  {
   "cell_type": "code",
   "execution_count": 17,
   "id": "2bbc581a-cc97-42d0-9b8f-8e7a4f173174",
   "metadata": {},
   "outputs": [],
   "source": [
    "inst_events_c = inst_events_c.drop(columns=['constraint', 'constraint.relation', 'constraint.value', 'constraint.name'])"
   ]
  },
  {
   "cell_type": "code",
   "execution_count": 18,
   "id": "177f6df8-db39-44e3-b13a-106e142a1eff",
   "metadata": {},
   "outputs": [
    {
     "name": "stdout",
     "output_type": "stream",
     "text": [
      "Number of Rows of Collections_Events_C:  77525680\n"
     ]
    },
    {
     "data": {
      "text/plain": [
       "time                       77525680\n",
       "type                       77525680\n",
       "collection_id              77525680\n",
       "priority                   77525680\n",
       "resource_request.cpus      77524745\n",
       "resource_request.memory    77524745\n",
       "scheduling_class           77525680\n",
       "missing_type                  50506\n",
       "collection_type            77525680\n",
       "alloc_collection_id        77525680\n",
       "instance_index             77525680\n",
       "machine_id                 38975739\n",
       "alloc_instance_index       74776290\n",
       "dtype: int64"
      ]
     },
     "execution_count": 18,
     "metadata": {},
     "output_type": "execute_result"
    }
   ],
   "source": [
    "print('Number of Rows of Collections_Events_C: ', len(inst_events_c))\n",
    "inst_events_c.count().compute()"
   ]
  },
  {
   "cell_type": "markdown",
   "id": "2ec922a9-7246-4f4a-b5cd-31fd783a1cfc",
   "metadata": {},
   "source": [
    "### Instance_Events_D 2019 Dataset Append Compute"
   ]
  },
  {
   "cell_type": "code",
   "execution_count": 19,
   "id": "87d5be91-73fe-4bd9-a364-5b25272e38dc",
   "metadata": {},
   "outputs": [],
   "source": [
    "inst_events_d = dd.concat([instance_events0_d, instance_events1_d, instance_events2_d, instance_events3_d, instance_events4_d])"
   ]
  },
  {
   "cell_type": "code",
   "execution_count": 20,
   "id": "688454c7-180c-43a6-805c-aec4920a2a44",
   "metadata": {},
   "outputs": [],
   "source": [
    "inst_events_d = inst_events_d.drop(columns=['constraint'])"
   ]
  },
  {
   "cell_type": "code",
   "execution_count": 21,
   "id": "f841c622-3398-4213-a83f-07e39467843c",
   "metadata": {},
   "outputs": [
    {
     "name": "stdout",
     "output_type": "stream",
     "text": [
      "Number of Rows of Collections_Events_D:  86668018\n"
     ]
    },
    {
     "data": {
      "text/plain": [
       "time                       86668018\n",
       "type                       86668018\n",
       "collection_id              86668018\n",
       "priority                   86668018\n",
       "resource_request.cpus      86664712\n",
       "resource_request.memory    86664712\n",
       "scheduling_class           86668018\n",
       "missing_type                  96284\n",
       "collection_type            86668018\n",
       "alloc_collection_id        86668018\n",
       "instance_index             86668018\n",
       "machine_id                 45151271\n",
       "alloc_instance_index       82455587\n",
       "dtype: int64"
      ]
     },
     "execution_count": 21,
     "metadata": {},
     "output_type": "execute_result"
    }
   ],
   "source": [
    "print('Number of Rows of Collections_Events_D: ', len(inst_events_d))\n",
    "inst_events_d.count().compute()"
   ]
  },
  {
   "cell_type": "markdown",
   "id": "723b097d-3e69-41b6-9826-591305b80c37",
   "metadata": {},
   "source": [
    "### Instance_Events_E 2019 Dataset Append Compute"
   ]
  },
  {
   "cell_type": "code",
   "execution_count": 22,
   "id": "e51121f3-f020-4c27-9552-f4e9bceff4ba",
   "metadata": {},
   "outputs": [],
   "source": [
    "inst_events_e = dd.concat([instance_events0_e, instance_events1_e, instance_events2_e, instance_events3_e])"
   ]
  },
  {
   "cell_type": "code",
   "execution_count": 23,
   "id": "bdda72ec-414a-484c-a0d7-153a6320ea51",
   "metadata": {},
   "outputs": [],
   "source": [
    "inst_events_e = inst_events_e.drop(columns=['constraint'])"
   ]
  },
  {
   "cell_type": "code",
   "execution_count": 24,
   "id": "10859b97-50ad-43de-a5a7-9968937e9393",
   "metadata": {},
   "outputs": [
    {
     "name": "stdout",
     "output_type": "stream",
     "text": [
      "Number of Rows of Collections_Events_E:  86001578\n"
     ]
    },
    {
     "data": {
      "text/plain": [
       "time                       86001578\n",
       "type                       86001578\n",
       "collection_id              86001578\n",
       "priority                   86001578\n",
       "resource_request.cpus      86000467\n",
       "resource_request.memory    86000467\n",
       "scheduling_class           86001578\n",
       "missing_type                 132947\n",
       "collection_type            86001578\n",
       "alloc_collection_id        86001578\n",
       "instance_index             86001578\n",
       "machine_id                 44573813\n",
       "alloc_instance_index       84465281\n",
       "dtype: int64"
      ]
     },
     "execution_count": 24,
     "metadata": {},
     "output_type": "execute_result"
    }
   ],
   "source": [
    "print('Number of Rows of Collections_Events_E: ', len(inst_events_e))\n",
    "inst_events_e.count().compute()"
   ]
  },
  {
   "cell_type": "markdown",
   "id": "69740bfc-ca3e-44b1-b9e4-66671222be5d",
   "metadata": {},
   "source": [
    "### Instance_Events_F 2019 Dataset Append Compute"
   ]
  },
  {
   "cell_type": "code",
   "execution_count": 25,
   "id": "2885dc76-1a43-42b5-9749-ba37dbdaa328",
   "metadata": {},
   "outputs": [],
   "source": [
    "inst_events_f = dd.concat([instance_events0_f, instance_events1_f, instance_events2_f, instance_events3_f, instance_events4_f])"
   ]
  },
  {
   "cell_type": "code",
   "execution_count": 26,
   "id": "6dc24257-1739-42d7-9bc6-fd3b730ed0a4",
   "metadata": {},
   "outputs": [],
   "source": [
    "inst_events_f = inst_events_f.drop(columns=['constraint'])"
   ]
  },
  {
   "cell_type": "code",
   "execution_count": 27,
   "id": "78def63f-09dc-4e65-9ca0-d3f4945aa01e",
   "metadata": {},
   "outputs": [
    {
     "name": "stdout",
     "output_type": "stream",
     "text": [
      "Number of Rows of Collections_Events_F:  20833311\n"
     ]
    },
    {
     "data": {
      "text/plain": [
       "time                       20833311\n",
       "type                       20833311\n",
       "collection_id              20833311\n",
       "priority                   20833311\n",
       "resource_request.cpus      20832282\n",
       "resource_request.memory    20832282\n",
       "scheduling_class           20833311\n",
       "missing_type                  38354\n",
       "collection_type            20833311\n",
       "alloc_collection_id        20833311\n",
       "instance_index             20833311\n",
       "machine_id                 11141635\n",
       "alloc_instance_index       20055198\n",
       "dtype: int64"
      ]
     },
     "execution_count": 27,
     "metadata": {},
     "output_type": "execute_result"
    }
   ],
   "source": [
    "print('Number of Rows of Collections_Events_F: ', len(inst_events_f))\n",
    "inst_events_f.count().compute()"
   ]
  },
  {
   "cell_type": "markdown",
   "id": "d388a722-d67c-4d05-a24f-7ca48ca1fb66",
   "metadata": {},
   "source": [
    "### Instance_Events_G 2019 Dataset Append Compute"
   ]
  },
  {
   "cell_type": "code",
   "execution_count": 28,
   "id": "cb9e446e-e096-492c-b1e2-29897085767b",
   "metadata": {},
   "outputs": [],
   "source": [
    "inst_events_g = dd.concat([instance_events0_g, instance_events1_g, instance_events2_g])"
   ]
  },
  {
   "cell_type": "code",
   "execution_count": 29,
   "id": "719c49ad-c4a9-427d-99da-e7ff9ab427be",
   "metadata": {},
   "outputs": [],
   "source": [
    "inst_events_g = inst_events_g.drop(columns=['constraint'])"
   ]
  },
  {
   "cell_type": "code",
   "execution_count": 30,
   "id": "e67ecf65-9b5c-4ed6-a323-2c9e7c6847a7",
   "metadata": {},
   "outputs": [
    {
     "name": "stdout",
     "output_type": "stream",
     "text": [
      "Number of Rows of Collections_Events_G:  70501575\n"
     ]
    },
    {
     "data": {
      "text/plain": [
       "time                       70501575\n",
       "type                       70501575\n",
       "collection_id              70501575\n",
       "priority                   70501575\n",
       "resource_request.cpus      70500545\n",
       "resource_request.memory    70500545\n",
       "scheduling_class           70501575\n",
       "missing_type                 121342\n",
       "collection_type            70501575\n",
       "alloc_collection_id        70501575\n",
       "instance_index             70501575\n",
       "machine_id                 37625484\n",
       "alloc_instance_index       61543400\n",
       "dtype: int64"
      ]
     },
     "execution_count": 30,
     "metadata": {},
     "output_type": "execute_result"
    }
   ],
   "source": [
    "print('Number of Rows of Collections_Events_G: ', len(inst_events_g))\n",
    "inst_events_g.count().compute()"
   ]
  },
  {
   "cell_type": "markdown",
   "id": "529b850c-ac35-4c37-adfb-0681e754e859",
   "metadata": {},
   "source": [
    "### Instance_Events_H 2019 Dataset Append Compute"
   ]
  },
  {
   "cell_type": "code",
   "execution_count": 31,
   "id": "1823d975-7a06-4f9a-ab3b-be953ddae5ac",
   "metadata": {},
   "outputs": [],
   "source": [
    "inst_events_h = dd.concat([instance_events0_h, instance_events1_h, instance_events2_h, instance_events3_h, instance_events4_h, instance_events5_h, instance_events6_h, instance_events7_h, \n",
    "                           instance_events8_h, instance_events9_h])"
   ]
  },
  {
   "cell_type": "code",
   "execution_count": 32,
   "id": "530fa800-9e58-4a3a-8568-586c7a630864",
   "metadata": {},
   "outputs": [],
   "source": [
    "inst_events_h = inst_events_h.drop(columns=['constraint', 'constraint.relation', 'constraint.value', 'constraint.name'])"
   ]
  },
  {
   "cell_type": "code",
   "execution_count": 33,
   "id": "589c93f6-f844-40ad-a2a4-14f96bb7f24c",
   "metadata": {},
   "outputs": [
    {
     "name": "stdout",
     "output_type": "stream",
     "text": [
      "Number of Rows of Collections_Events_H:  12505001\n"
     ]
    },
    {
     "data": {
      "text/plain": [
       "time                       12505001\n",
       "type                       12505001\n",
       "collection_id              12505001\n",
       "priority                   12505001\n",
       "resource_request.cpus      12504643\n",
       "resource_request.memory    12504643\n",
       "scheduling_class           12505001\n",
       "missing_type                  16525\n",
       "collection_type            12505001\n",
       "alloc_collection_id        12505001\n",
       "instance_index             12505001\n",
       "machine_id                  6623841\n",
       "alloc_instance_index       12123603\n",
       "dtype: int64"
      ]
     },
     "execution_count": 33,
     "metadata": {},
     "output_type": "execute_result"
    }
   ],
   "source": [
    "print('Number of Rows of Collections_Events_H: ', len(inst_events_h))\n",
    "inst_events_h.count().compute()"
   ]
  },
  {
   "cell_type": "markdown",
   "id": "4457a71e-bffa-4464-b213-531db7832f72",
   "metadata": {},
   "source": [
    "### Instance_Events_All 2019 Append Dataset Compute"
   ]
  },
  {
   "cell_type": "code",
   "execution_count": 34,
   "id": "bb3f4d0b-a582-4d1f-b666-dde2b0c4294c",
   "metadata": {},
   "outputs": [],
   "source": [
    "inst_events = dd.concat([inst_events_a, inst_events_b, inst_events_c, inst_events_d, inst_events_e, inst_events_f, inst_events_g, inst_events_h])"
   ]
  },
  {
   "cell_type": "code",
   "execution_count": 35,
   "id": "63069397-703c-4ec9-9beb-bab5b04bb059",
   "metadata": {},
   "outputs": [
    {
     "name": "stdout",
     "output_type": "stream",
     "text": [
      "Number of Rows For Instance_Events_All :  545842803\n"
     ]
    },
    {
     "data": {
      "text/plain": [
       "time                       545842803\n",
       "type                       545842803\n",
       "collection_id              545842803\n",
       "priority                   545842803\n",
       "resource_request.cpus      545828829\n",
       "resource_request.memory    545828829\n",
       "scheduling_class           545842803\n",
       "missing_type                  986202\n",
       "collection_type            545842803\n",
       "alloc_collection_id        545842803\n",
       "instance_index             545842803\n",
       "machine_id                 283728938\n",
       "alloc_instance_index       511176720\n",
       "dtype: int64"
      ]
     },
     "execution_count": 35,
     "metadata": {},
     "output_type": "execute_result"
    }
   ],
   "source": [
    "print('Number of Rows For Instance_Events_All : ', len(inst_events))\n",
    "inst_events.count().compute()"
   ]
  },
  {
   "cell_type": "code",
   "execution_count": 36,
   "id": "00cbe54e-58c5-456c-aa53-1050ad733704",
   "metadata": {},
   "outputs": [
    {
     "data": {
      "text/plain": [
       "['F:/Files/TraceDataset/Output/Dataset/Append Dataset/instance_events/append_instance_events.csv']"
      ]
     },
     "execution_count": 36,
     "metadata": {},
     "output_type": "execute_result"
    }
   ],
   "source": [
    "inst_events.to_csv('Dataset/Append Dataset/instance_events/append_instance_events.csv', single_file = True)"
   ]
  },
  {
   "cell_type": "markdown",
   "id": "8aee4b2f-6bd9-4fae-9733-bce0b17ccaa0",
   "metadata": {},
   "source": [
    "### Instance_Usage 2019 Dataset Append"
   ]
  },
  {
   "cell_type": "markdown",
   "id": "eda59afc-293c-4980-bc18-516ad70fcc2f",
   "metadata": {},
   "source": [
    "### Instance_Usage 2019 Dataset Read"
   ]
  },
  {
   "cell_type": "code",
   "execution_count": 2,
   "id": "aeee65a0-55f4-4489-83d3-bb802d3f9ff6",
   "metadata": {},
   "outputs": [],
   "source": [
    "instance_usage0_a = dd.read_csv('Dataset/instance_usage/instance_usage_0_2019_a.csv', assume_missing = True)\n",
    "instance_usage0_b = dd.read_csv('Dataset/instance_usage/instance_usage_0_2019_b.csv', assume_missing = True)\n",
    "instance_usage0_c = dd.read_csv('Dataset/instance_usage/instance_usage_0_2019_c.csv', assume_missing = True)\n",
    "instance_usage0_d = dd.read_csv('Dataset/instance_usage/instance_usage_0_2019_d.csv', assume_missing = True)\n",
    "instance_usage0_e = dd.read_csv('Dataset/instance_usage/instance_usage_0_2019_e.csv', assume_missing = True)\n",
    "instance_usage0_f = dd.read_csv('Dataset/instance_usage/instance_usage_0_2019_f.csv', assume_missing = True)\n",
    "instance_usage0_g = dd.read_csv('Dataset/instance_usage/instance_usage_0_2019_g.csv', assume_missing = True)\n",
    "instance_usage0_h = dd.read_csv('Dataset/instance_usage/instance_usage_0_2019_h.csv', assume_missing = True)"
   ]
  },
  {
   "cell_type": "markdown",
   "id": "65f7e15a-8233-4814-af0c-9502e16ccb88",
   "metadata": {},
   "source": [
    "### Instance_Usage_A Compute"
   ]
  },
  {
   "cell_type": "code",
   "execution_count": 3,
   "id": "2254a8ef-bac3-431d-ad0c-c0efe6c76a05",
   "metadata": {},
   "outputs": [
    {
     "name": "stdout",
     "output_type": "stream",
     "text": [
      "Number of Rows For Instance_Usage_A :  3890183\n"
     ]
    },
    {
     "data": {
      "text/plain": [
       "start_time                         3890183\n",
       "end_time                           3890183\n",
       "collection_id                      3890183\n",
       "instance_index                     3890183\n",
       "machine_id                         3890183\n",
       "alloc_collection_id                3890183\n",
       "alloc_instance_index               3890183\n",
       "collection_type                    3890183\n",
       "average_usage.cpus                 3890183\n",
       "average_usage.memory               3890183\n",
       "maximum_usage.cpus                 3890183\n",
       "maximum_usage.memory               3890183\n",
       "random_sample_usage.cpus           3890183\n",
       "assigned_memory                    3890183\n",
       "page_cache_memory                  3890183\n",
       "cycles_per_instruction             3890183\n",
       "memory_accesses_per_instruction    3890183\n",
       "sample_rate                        3890183\n",
       "cpu_usage_distribution             3890183\n",
       "tail_cpu_usage_distribution.0      3890183\n",
       "tail_cpu_usage_distribution.1      3890183\n",
       "tail_cpu_usage_distribution.2      3890183\n",
       "tail_cpu_usage_distribution.3      3890183\n",
       "tail_cpu_usage_distribution.4      3890183\n",
       "tail_cpu_usage_distribution.5      3890183\n",
       "tail_cpu_usage_distribution.6      3890183\n",
       "tail_cpu_usage_distribution.7      3890183\n",
       "tail_cpu_usage_distribution.8      3890183\n",
       "dtype: int64"
      ]
     },
     "execution_count": 3,
     "metadata": {},
     "output_type": "execute_result"
    }
   ],
   "source": [
    "print('Number of Rows For Instance_Usage_A : ', len(instance_usage0_a))\n",
    "instance_usage0_a.count().compute()"
   ]
  },
  {
   "cell_type": "markdown",
   "id": "25ec988b-dd4b-49f9-a5fe-0bccab99f154",
   "metadata": {},
   "source": [
    "### Instance_Usage_B Compute"
   ]
  },
  {
   "cell_type": "code",
   "execution_count": 4,
   "id": "d14ddbb6-4c17-41c3-848b-91d351342211",
   "metadata": {},
   "outputs": [
    {
     "name": "stdout",
     "output_type": "stream",
     "text": [
      "Number of Rows For Instance_Usage_B :  3485750\n"
     ]
    },
    {
     "data": {
      "text/plain": [
       "start_time                         3485750\n",
       "end_time                           3485750\n",
       "collection_id                      3485750\n",
       "instance_index                     3485750\n",
       "machine_id                         3485750\n",
       "alloc_collection_id                3485750\n",
       "alloc_instance_index               3485750\n",
       "collection_type                    3485750\n",
       "average_usage.cpus                 3485750\n",
       "average_usage.memory               3485750\n",
       "maximum_usage.cpus                 3485750\n",
       "maximum_usage.memory               3485730\n",
       "random_sample_usage.cpus           3485750\n",
       "assigned_memory                    3485750\n",
       "page_cache_memory                  3485750\n",
       "cycles_per_instruction             2486543\n",
       "memory_accesses_per_instruction    2486543\n",
       "sample_rate                        3485750\n",
       "cpu_usage_distribution.0           3380188\n",
       "cpu_usage_distribution.1           3380188\n",
       "cpu_usage_distribution.2           3380188\n",
       "cpu_usage_distribution.3           3380188\n",
       "cpu_usage_distribution.4           3380188\n",
       "cpu_usage_distribution.5           3380188\n",
       "cpu_usage_distribution.6           3380188\n",
       "cpu_usage_distribution.7           3380188\n",
       "cpu_usage_distribution.8           3380188\n",
       "cpu_usage_distribution.9           3380188\n",
       "cpu_usage_distribution.10          3380188\n",
       "tail_cpu_usage_distribution.0      3380188\n",
       "tail_cpu_usage_distribution.1      3380188\n",
       "tail_cpu_usage_distribution.2      3380188\n",
       "tail_cpu_usage_distribution.3      3380188\n",
       "tail_cpu_usage_distribution.4      3380188\n",
       "tail_cpu_usage_distribution.5      3380188\n",
       "tail_cpu_usage_distribution.6      3380188\n",
       "tail_cpu_usage_distribution.7      3380188\n",
       "tail_cpu_usage_distribution.8      3380188\n",
       "dtype: int64"
      ]
     },
     "execution_count": 4,
     "metadata": {},
     "output_type": "execute_result"
    }
   ],
   "source": [
    "print('Number of Rows For Instance_Usage_B : ', len(instance_usage0_b))\n",
    "instance_usage0_b.count().compute()"
   ]
  },
  {
   "cell_type": "markdown",
   "id": "009235fa-3980-40c1-a006-e4bbaf69c8bd",
   "metadata": {},
   "source": [
    "### Instance_Usage_C Compute"
   ]
  },
  {
   "cell_type": "code",
   "execution_count": 5,
   "id": "e7ce651b-fec4-4704-bd73-bb7f9957738a",
   "metadata": {},
   "outputs": [
    {
     "name": "stdout",
     "output_type": "stream",
     "text": [
      "Number of Rows For Instance_Usage_C :  3300091\n"
     ]
    },
    {
     "data": {
      "text/plain": [
       "start_time                         3300091\n",
       "end_time                           3300091\n",
       "collection_id                      3300091\n",
       "instance_index                     3300091\n",
       "machine_id                         3300091\n",
       "alloc_collection_id                3300091\n",
       "alloc_instance_index               3300091\n",
       "collection_type                    3300091\n",
       "average_usage.cpus                 3300091\n",
       "average_usage.memory               3300091\n",
       "maximum_usage.cpus                 3300091\n",
       "maximum_usage.memory               3300091\n",
       "random_sample_usage.cpus           3300091\n",
       "assigned_memory                    3300091\n",
       "page_cache_memory                  3300091\n",
       "cycles_per_instruction             3300091\n",
       "memory_accesses_per_instruction    3300091\n",
       "sample_rate                        3300091\n",
       "cpu_usage_distribution.0           3300091\n",
       "cpu_usage_distribution.1           3300091\n",
       "cpu_usage_distribution.2           3300091\n",
       "cpu_usage_distribution.3           3300091\n",
       "cpu_usage_distribution.4           3300091\n",
       "cpu_usage_distribution.5           3300091\n",
       "cpu_usage_distribution.6           3300091\n",
       "cpu_usage_distribution.7           3300091\n",
       "cpu_usage_distribution.8           3300091\n",
       "cpu_usage_distribution.9           3300091\n",
       "cpu_usage_distribution.10          3300091\n",
       "tail_cpu_usage_distribution        3300091\n",
       "dtype: int64"
      ]
     },
     "execution_count": 5,
     "metadata": {},
     "output_type": "execute_result"
    }
   ],
   "source": [
    "print('Number of Rows For Instance_Usage_C : ', len(instance_usage0_c))\n",
    "instance_usage0_c.count().compute()"
   ]
  },
  {
   "cell_type": "markdown",
   "id": "5d2554f7-f410-4a08-8e7a-b46f8533991a",
   "metadata": {},
   "source": [
    "### Instance_Usage_D Compute"
   ]
  },
  {
   "cell_type": "code",
   "execution_count": 6,
   "id": "9f448615-7255-4cbe-acb4-0d3e1e0640dd",
   "metadata": {},
   "outputs": [
    {
     "name": "stdout",
     "output_type": "stream",
     "text": [
      "Number of Rows For Instance_Usage_D :  4633600\n"
     ]
    },
    {
     "data": {
      "text/plain": [
       "start_time                         4633600\n",
       "end_time                           4633600\n",
       "collection_id                      4633600\n",
       "instance_index                     4633600\n",
       "machine_id                         4633600\n",
       "alloc_collection_id                4633600\n",
       "alloc_instance_index               4633600\n",
       "collection_type                    4633600\n",
       "average_usage.cpus                 4633600\n",
       "average_usage.memory               4633600\n",
       "maximum_usage.cpus                 4633600\n",
       "maximum_usage.memory               4632903\n",
       "random_sample_usage.cpus           4633600\n",
       "assigned_memory                    4633600\n",
       "page_cache_memory                  4633600\n",
       "cycles_per_instruction             3367972\n",
       "memory_accesses_per_instruction    3367972\n",
       "sample_rate                        4633600\n",
       "cpu_usage_distribution.0           4528910\n",
       "cpu_usage_distribution.1           4528910\n",
       "cpu_usage_distribution.2           4528910\n",
       "cpu_usage_distribution.3           4528910\n",
       "cpu_usage_distribution.4           4528910\n",
       "cpu_usage_distribution.5           4528910\n",
       "cpu_usage_distribution.6           4528910\n",
       "cpu_usage_distribution.7           4528910\n",
       "cpu_usage_distribution.8           4528910\n",
       "cpu_usage_distribution.9           4528910\n",
       "cpu_usage_distribution.10          4528910\n",
       "tail_cpu_usage_distribution.0      4528910\n",
       "tail_cpu_usage_distribution.1      4528910\n",
       "tail_cpu_usage_distribution.2      4528910\n",
       "tail_cpu_usage_distribution.3      4528910\n",
       "tail_cpu_usage_distribution.4      4528910\n",
       "tail_cpu_usage_distribution.5      4528910\n",
       "tail_cpu_usage_distribution.6      4528910\n",
       "tail_cpu_usage_distribution.7      4528910\n",
       "tail_cpu_usage_distribution.8      4528910\n",
       "dtype: int64"
      ]
     },
     "execution_count": 6,
     "metadata": {},
     "output_type": "execute_result"
    }
   ],
   "source": [
    "print('Number of Rows For Instance_Usage_D : ', len(instance_usage0_d))\n",
    "instance_usage0_d.count().compute()"
   ]
  },
  {
   "cell_type": "markdown",
   "id": "f203e039-6751-42ff-9616-9d4fe10689b9",
   "metadata": {},
   "source": [
    "### Instance_Usage_E Compute"
   ]
  },
  {
   "cell_type": "code",
   "execution_count": 7,
   "id": "e0142367-cf53-4671-bb8d-e3eb85b3849a",
   "metadata": {},
   "outputs": [
    {
     "name": "stdout",
     "output_type": "stream",
     "text": [
      "Number of Rows For Instance_Usage_E :  15661216\n"
     ]
    },
    {
     "data": {
      "text/plain": [
       "start_time                         15661216\n",
       "end_time                           15661216\n",
       "collection_id                      15661216\n",
       "instance_index                     15661216\n",
       "machine_id                         15661216\n",
       "alloc_collection_id                15661216\n",
       "alloc_instance_index               15661216\n",
       "collection_type                    15661216\n",
       "average_usage.cpus                 15661216\n",
       "average_usage.memory               15661216\n",
       "maximum_usage.cpus                 15661216\n",
       "maximum_usage.memory               15661216\n",
       "random_sample_usage.cpus           15661216\n",
       "assigned_memory                    15661216\n",
       "page_cache_memory                  15661216\n",
       "cycles_per_instruction                    0\n",
       "memory_accesses_per_instruction           0\n",
       "sample_rate                        15661216\n",
       "cpu_usage_distribution             15661216\n",
       "tail_cpu_usage_distribution        15661216\n",
       "dtype: int64"
      ]
     },
     "execution_count": 7,
     "metadata": {},
     "output_type": "execute_result"
    }
   ],
   "source": [
    "print('Number of Rows For Instance_Usage_E : ', len(instance_usage0_e))\n",
    "instance_usage0_e.count().compute()"
   ]
  },
  {
   "cell_type": "markdown",
   "id": "f6cbec66-3eeb-4412-adb0-c0b7bf5fe296",
   "metadata": {},
   "source": [
    "### Instance_Usage_F Compute"
   ]
  },
  {
   "cell_type": "code",
   "execution_count": 8,
   "id": "06c868e0-9ae4-4865-aaff-f38a38c22876",
   "metadata": {},
   "outputs": [
    {
     "name": "stdout",
     "output_type": "stream",
     "text": [
      "Number of Rows For Instance_Usage_F :  15247346\n"
     ]
    },
    {
     "data": {
      "text/plain": [
       "start_time                         15247346\n",
       "end_time                           15247346\n",
       "collection_id                      15247346\n",
       "instance_index                     15247346\n",
       "machine_id                         15247346\n",
       "alloc_collection_id                15247346\n",
       "alloc_instance_index               15247346\n",
       "collection_type                    15247346\n",
       "average_usage.cpus                 15247346\n",
       "average_usage.memory               15247346\n",
       "maximum_usage.cpus                 15247346\n",
       "maximum_usage.memory               15247346\n",
       "random_sample_usage.cpus           15247346\n",
       "assigned_memory                    15247346\n",
       "page_cache_memory                  15247346\n",
       "cycles_per_instruction             11000061\n",
       "memory_accesses_per_instruction    11000061\n",
       "sample_rate                        15247346\n",
       "cpu_usage_distribution             15242695\n",
       "tail_cpu_usage_distribution        15242695\n",
       "dtype: int64"
      ]
     },
     "execution_count": 8,
     "metadata": {},
     "output_type": "execute_result"
    }
   ],
   "source": [
    "print('Number of Rows For Instance_Usage_F : ', len(instance_usage0_f))\n",
    "instance_usage0_f.count().compute()"
   ]
  },
  {
   "cell_type": "markdown",
   "id": "b9cd20f3-1eec-4a24-b425-60d1fafd92a6",
   "metadata": {},
   "source": [
    "### Instance_Usage_G Compute"
   ]
  },
  {
   "cell_type": "code",
   "execution_count": 9,
   "id": "6f11ef6c-9b9e-4491-a19e-a317dfcef8c9",
   "metadata": {},
   "outputs": [
    {
     "name": "stdout",
     "output_type": "stream",
     "text": [
      "Number of Rows For Instance_Usage_G :  31494513\n"
     ]
    },
    {
     "data": {
      "text/plain": [
       "start_time                         31494513\n",
       "end_time                           31494513\n",
       "collection_id                      31494513\n",
       "instance_index                     31494513\n",
       "machine_id                         31494513\n",
       "alloc_collection_id                31494513\n",
       "alloc_instance_index               31494513\n",
       "collection_type                    31494513\n",
       "average_usage.cpus                 31494513\n",
       "average_usage.memory               31494513\n",
       "maximum_usage.cpus                 31494513\n",
       "maximum_usage.memory               31480077\n",
       "random_sample_usage.cpus           31494513\n",
       "assigned_memory                    31494513\n",
       "page_cache_memory                  31494513\n",
       "cycles_per_instruction             28475367\n",
       "memory_accesses_per_instruction    28475367\n",
       "sample_rate                        31494513\n",
       "cpu_usage_distribution.0           31453989\n",
       "cpu_usage_distribution.1           31453989\n",
       "cpu_usage_distribution.2           31453989\n",
       "cpu_usage_distribution.3           31453989\n",
       "cpu_usage_distribution.4           31453989\n",
       "cpu_usage_distribution.5           31453989\n",
       "cpu_usage_distribution.6           31453989\n",
       "cpu_usage_distribution.7           31453989\n",
       "cpu_usage_distribution.8           31453989\n",
       "cpu_usage_distribution.9           31453989\n",
       "cpu_usage_distribution.10          31453989\n",
       "dtype: int64"
      ]
     },
     "execution_count": 9,
     "metadata": {},
     "output_type": "execute_result"
    }
   ],
   "source": [
    "print('Number of Rows For Instance_Usage_G : ', len(instance_usage0_g))\n",
    "instance_usage0_g.count().compute()"
   ]
  },
  {
   "cell_type": "markdown",
   "id": "b44fcb7c-5a41-4e4f-a035-a7f13323dd24",
   "metadata": {},
   "source": [
    "### Instance_Usage_H Compute"
   ]
  },
  {
   "cell_type": "code",
   "execution_count": 10,
   "id": "72c74d94-7b48-428e-8146-5adf6df1fb67",
   "metadata": {},
   "outputs": [
    {
     "name": "stdout",
     "output_type": "stream",
     "text": [
      "Number of Rows For Instance_Usage_H :  25843859\n"
     ]
    },
    {
     "data": {
      "text/plain": [
       "start_time                         25843859\n",
       "end_time                           25843859\n",
       "collection_id                      25843859\n",
       "instance_index                     25843859\n",
       "machine_id                         25843859\n",
       "alloc_collection_id                25843859\n",
       "alloc_instance_index               25843859\n",
       "collection_type                    25843859\n",
       "average_usage.cpus                 25843859\n",
       "average_usage.memory               25843859\n",
       "maximum_usage.cpus                 25843859\n",
       "maximum_usage.memory               25843859\n",
       "random_sample_usage.cpus           25843859\n",
       "assigned_memory                    25843859\n",
       "page_cache_memory                  25843859\n",
       "cycles_per_instruction             16000510\n",
       "memory_accesses_per_instruction    16000510\n",
       "sample_rate                        25843859\n",
       "cpu_usage_distribution             25742048\n",
       "dtype: int64"
      ]
     },
     "execution_count": 10,
     "metadata": {},
     "output_type": "execute_result"
    }
   ],
   "source": [
    "print('Number of Rows For Instance_Usage_H : ', len(instance_usage0_h))\n",
    "instance_usage0_h.count().compute()"
   ]
  },
  {
   "cell_type": "markdown",
   "id": "0414f5e7-6de3-4307-861d-f7ed1325d9b6",
   "metadata": {},
   "source": [
    "### Instance_Usage All Append Compute"
   ]
  },
  {
   "cell_type": "code",
   "execution_count": 11,
   "id": "53cc4965-79fb-4e0a-b73b-6a2b347841d6",
   "metadata": {},
   "outputs": [],
   "source": [
    "inst_usage = dd.concat([instance_usage0_a, instance_usage0_b, instance_usage0_c, instance_usage0_d, instance_usage0_e, instance_usage0_f, instance_usage0_g, instance_usage0_h])"
   ]
  },
  {
   "cell_type": "code",
   "execution_count": 12,
   "id": "4b2106f8-5e3d-4149-8fb1-fcd35e24bd24",
   "metadata": {},
   "outputs": [
    {
     "name": "stdout",
     "output_type": "stream",
     "text": [
      "Number of Rows For Instance_Events_All :  103556558\n"
     ]
    },
    {
     "data": {
      "text/plain": [
       "start_time                         103556558\n",
       "end_time                           103556558\n",
       "collection_id                      103556558\n",
       "instance_index                     103556558\n",
       "machine_id                         103556558\n",
       "alloc_collection_id                103556558\n",
       "alloc_instance_index               103556558\n",
       "collection_type                    103556558\n",
       "average_usage.cpus                 103556558\n",
       "average_usage.memory               103556558\n",
       "maximum_usage.cpus                 103556558\n",
       "maximum_usage.memory               103541405\n",
       "random_sample_usage.cpus           103556558\n",
       "assigned_memory                    103556558\n",
       "page_cache_memory                  103556558\n",
       "cycles_per_instruction              68520727\n",
       "memory_accesses_per_instruction     68520727\n",
       "sample_rate                        103556558\n",
       "cpu_usage_distribution              60536142\n",
       "tail_cpu_usage_distribution.0       11799281\n",
       "tail_cpu_usage_distribution.1       11799281\n",
       "tail_cpu_usage_distribution.2       11799281\n",
       "tail_cpu_usage_distribution.3       11799281\n",
       "tail_cpu_usage_distribution.4       11799281\n",
       "tail_cpu_usage_distribution.5       11799281\n",
       "tail_cpu_usage_distribution.6       11799281\n",
       "tail_cpu_usage_distribution.7       11799281\n",
       "tail_cpu_usage_distribution.8       11799281\n",
       "cpu_usage_distribution.0            42663178\n",
       "cpu_usage_distribution.1            42663178\n",
       "cpu_usage_distribution.2            42663178\n",
       "cpu_usage_distribution.3            42663178\n",
       "cpu_usage_distribution.4            42663178\n",
       "cpu_usage_distribution.5            42663178\n",
       "cpu_usage_distribution.6            42663178\n",
       "cpu_usage_distribution.7            42663178\n",
       "cpu_usage_distribution.8            42663178\n",
       "cpu_usage_distribution.9            42663178\n",
       "cpu_usage_distribution.10           42663178\n",
       "tail_cpu_usage_distribution         34204002\n",
       "dtype: int64"
      ]
     },
     "execution_count": 12,
     "metadata": {},
     "output_type": "execute_result"
    }
   ],
   "source": [
    "print('Number of Rows For Instance_Events_All : ', len(inst_usage))\n",
    "inst_usage.count().compute()"
   ]
  },
  {
   "cell_type": "code",
   "execution_count": 13,
   "id": "9b7fe883-d6e4-4a26-9c6a-f77a3eaae8d0",
   "metadata": {},
   "outputs": [
    {
     "data": {
      "text/plain": [
       "['F:/Files/TraceDataset/Output/Dataset/Append Dataset/instance_usage/append_instance_usage.csv']"
      ]
     },
     "execution_count": 13,
     "metadata": {},
     "output_type": "execute_result"
    }
   ],
   "source": [
    "inst_usage.to_csv('Dataset/Append Dataset/instance_usage/append_instance_usage.csv', single_file = True)"
   ]
  }
 ],
 "metadata": {
  "kernelspec": {
   "display_name": "Python 3 (ipykernel)",
   "language": "python",
   "name": "python3"
  },
  "language_info": {
   "codemirror_mode": {
    "name": "ipython",
    "version": 3
   },
   "file_extension": ".py",
   "mimetype": "text/x-python",
   "name": "python",
   "nbconvert_exporter": "python",
   "pygments_lexer": "ipython3",
   "version": "3.8.12"
  }
 },
 "nbformat": 4,
 "nbformat_minor": 5
}
