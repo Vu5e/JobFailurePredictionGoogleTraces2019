{
 "cells": [
  {
   "cell_type": "code",
   "execution_count": 1,
   "id": "38c50ca5-db97-4c0b-949f-5f908daf4cd0",
   "metadata": {},
   "outputs": [],
   "source": [
    "import dask.dataframe as dd\n",
    "import pandas as pd\n",
    "import matplotlib.pyplot as plt\n",
    "import seaborn as sns"
   ]
  },
  {
   "cell_type": "code",
   "execution_count": 2,
   "id": "238cd85c-c096-450e-a3ee-138d176cde8f",
   "metadata": {},
   "outputs": [],
   "source": [
    "coll_events = dd.read_csv('Dataset/Append Dataset/collection_events/append_collection_events.csv', assume_missing = True, dtype={'start_after_collection_ids': 'object'})"
   ]
  },
  {
   "cell_type": "code",
   "execution_count": 3,
   "id": "d7287faa-adb5-443a-81e3-c62607f08b89",
   "metadata": {},
   "outputs": [],
   "source": [
    "inst_events = dd.read_csv('Dataset/Append Dataset/instance_events/append_instance_events.csv', assume_missing = True)"
   ]
  },
  {
   "cell_type": "code",
   "execution_count": 4,
   "id": "43784f85-2adb-44a8-82af-92074e1bbfaf",
   "metadata": {},
   "outputs": [
    {
     "name": "stdout",
     "output_type": "stream",
     "text": [
      "Collection Events Table\n",
      "Number of Rows :  62653826\n",
      "Number of Non Null Row For Each Column : \n"
     ]
    },
    {
     "data": {
      "text/plain": [
       "Unnamed: 0                    62653826\n",
       "time                          62653826\n",
       "type                          62653826\n",
       "collection_id                 62653826\n",
       "priority                      62653826\n",
       "vertical_scaling              62653769\n",
       "scheduler                     62653769\n",
       "scheduling_class              62653826\n",
       "missing_type                       455\n",
       "collection_type               62653826\n",
       "alloc_collection_id            5647510\n",
       "user                          62653826\n",
       "collection_name               62653826\n",
       "collection_logical_name       62653826\n",
       "parent_collection_id          22284570\n",
       "start_after_collection_ids    47613701\n",
       "max_per_machine                 908492\n",
       "max_per_switch                  208422\n",
       "dtype: int64"
      ]
     },
     "execution_count": 4,
     "metadata": {},
     "output_type": "execute_result"
    }
   ],
   "source": [
    "print('Collection Events Table')\n",
    "print('Number of Rows : ', len(coll_events))\n",
    "print('Number of Non Null Row For Each Column : ')\n",
    "coll_events.count().compute()"
   ]
  },
  {
   "cell_type": "code",
   "execution_count": 5,
   "id": "a7c64858-a79e-4e05-aad3-5e331535ba33",
   "metadata": {},
   "outputs": [
    {
     "name": "stdout",
     "output_type": "stream",
     "text": [
      "Collection Events Table\n",
      "Number of Rows :  62653826\n",
      "Number of Null Row For All Column :  299259920\n",
      "Number of Null Row For Each Column : \n"
     ]
    },
    {
     "data": {
      "text/plain": [
       "Unnamed: 0                           0\n",
       "time                                 0\n",
       "type                                 0\n",
       "collection_id                        0\n",
       "priority                             0\n",
       "vertical_scaling                    57\n",
       "scheduler                           57\n",
       "scheduling_class                     0\n",
       "missing_type                  62653371\n",
       "collection_type                      0\n",
       "alloc_collection_id           57006316\n",
       "user                                 0\n",
       "collection_name                      0\n",
       "collection_logical_name              0\n",
       "parent_collection_id          40369256\n",
       "start_after_collection_ids    15040125\n",
       "max_per_machine               61745334\n",
       "max_per_switch                62445404\n",
       "dtype: int64"
      ]
     },
     "execution_count": 5,
     "metadata": {},
     "output_type": "execute_result"
    }
   ],
   "source": [
    "print('Collection Events Table')\n",
    "print('Number of Rows : ', len(coll_events))\n",
    "print('Number of Null Row For All Column : ', coll_events.isna().sum().sum().compute())\n",
    "print('Number of Null Row For Each Column : ')\n",
    "coll_events.isna().sum().compute()"
   ]
  },
  {
   "cell_type": "code",
   "execution_count": 6,
   "id": "985cb51a-8a8f-47c4-af76-d25e1038a00b",
   "metadata": {},
   "outputs": [
    {
     "name": "stdout",
     "output_type": "stream",
     "text": [
      "Instance Events Table\n",
      "Number of Rows :  545842803\n",
      "Number of Null Row For All Column :  841664497\n",
      "Number of Null Row For Each Column : \n"
     ]
    },
    {
     "data": {
      "text/plain": [
       "Unnamed: 0                         0\n",
       "time                               0\n",
       "type                               0\n",
       "collection_id                      0\n",
       "priority                           0\n",
       "resource_request.cpus          13974\n",
       "resource_request.memory        13974\n",
       "scheduling_class                   0\n",
       "missing_type               544856601\n",
       "collection_type                    0\n",
       "alloc_collection_id                0\n",
       "instance_index                     0\n",
       "machine_id                 262113865\n",
       "alloc_instance_index        34666083\n",
       "dtype: int64"
      ]
     },
     "execution_count": 6,
     "metadata": {},
     "output_type": "execute_result"
    }
   ],
   "source": [
    "print('Instance Events Table')\n",
    "print('Number of Rows : ', len(inst_events))\n",
    "print('Number of Null Row For All Column : ', inst_events.isna().sum().sum().compute())\n",
    "print('Number of Null Row For Each Column : ')\n",
    "inst_events.isna().sum().compute()"
   ]
  },
  {
   "cell_type": "code",
   "execution_count": 7,
   "id": "50093717-811b-4932-b852-6a9adb69275a",
   "metadata": {},
   "outputs": [
    {
     "name": "stdout",
     "output_type": "stream",
     "text": [
      "Instance Events Table\n",
      "Number of Rows :  545842803\n",
      "Number of Non Null Row For Each Column : \n"
     ]
    },
    {
     "data": {
      "text/plain": [
       "Unnamed: 0                 545842803\n",
       "time                       545842803\n",
       "type                       545842803\n",
       "collection_id              545842803\n",
       "priority                   545842803\n",
       "resource_request.cpus      545828829\n",
       "resource_request.memory    545828829\n",
       "scheduling_class           545842803\n",
       "missing_type                  986202\n",
       "collection_type            545842803\n",
       "alloc_collection_id        545842803\n",
       "instance_index             545842803\n",
       "machine_id                 283728938\n",
       "alloc_instance_index       511176720\n",
       "dtype: int64"
      ]
     },
     "execution_count": 7,
     "metadata": {},
     "output_type": "execute_result"
    }
   ],
   "source": [
    "print('Instance Events Table')\n",
    "print('Number of Rows : ', len(inst_events))\n",
    "print('Number of Non Null Row For Each Column : ')\n",
    "inst_events.count().compute()"
   ]
  },
  {
   "cell_type": "code",
   "execution_count": 4,
   "id": "998bffc3-b896-46d3-a3ad-f67f2af53cc0",
   "metadata": {},
   "outputs": [],
   "source": [
    "coll_events = coll_events[coll_events.type > 4]\n",
    "coll_events = coll_events[coll_events.type < 8]"
   ]
  },
  {
   "cell_type": "code",
   "execution_count": 5,
   "id": "013ef160-8dce-4a8d-b36a-b56e482178a0",
   "metadata": {},
   "outputs": [],
   "source": [
    "coll_events = coll_events.replace({'type':{4:0, 5:0, 6:1, 7:0, 8:0}})"
   ]
  },
  {
   "cell_type": "code",
   "execution_count": 6,
   "id": "84292c99-de18-4fca-afc1-5a5438791d1a",
   "metadata": {},
   "outputs": [],
   "source": [
    "coll_events = coll_events.drop_duplicates(subset=['collection_id'])"
   ]
  },
  {
   "cell_type": "code",
   "execution_count": 7,
   "id": "6b6aae7f-0b56-4fac-96c9-885bec305f05",
   "metadata": {},
   "outputs": [],
   "source": [
    "inst_events = inst_events[inst_events.type > 4]\n",
    "inst_events = inst_events[inst_events.type < 8]"
   ]
  },
  {
   "cell_type": "code",
   "execution_count": 8,
   "id": "e815113b-f334-4e5c-adb5-9e43820d3767",
   "metadata": {},
   "outputs": [],
   "source": [
    "inst_events = inst_events.replace({'type':{4:0, 5:0, 6:1, 7:0, 8:0}})"
   ]
  },
  {
   "cell_type": "code",
   "execution_count": 9,
   "id": "9944a00b-466b-47fa-ae4e-17355dba72ee",
   "metadata": {},
   "outputs": [],
   "source": [
    "inst_events = inst_events.drop_duplicates(subset=['collection_id'])"
   ]
  },
  {
   "cell_type": "code",
   "execution_count": 10,
   "id": "6fa732d7-a365-4d61-bce0-ede229133062",
   "metadata": {},
   "outputs": [],
   "source": [
    "merged_job = inst_events.merge(coll_events, left_on='collection_id', right_on='collection_id')"
   ]
  },
  {
   "cell_type": "code",
   "execution_count": 11,
   "id": "1f0d0717-d067-4f01-b7d1-96294264be94",
   "metadata": {},
   "outputs": [],
   "source": [
    "merged_job = merged_job.dropna(subset=['type_x'])\n",
    "merged_job = merged_job.dropna(subset=['type_y'])"
   ]
  },
  {
   "cell_type": "code",
   "execution_count": 16,
   "id": "f9bc699e-1a2d-4d13-b1ac-bb60982d51bb",
   "metadata": {},
   "outputs": [
    {
     "name": "stdout",
     "output_type": "stream",
     "text": [
      "Merged Events Table\n",
      "Checking Null Values\n",
      "Number of Rows :  2854121\n",
      "Number of Null Row For All Column :  16854105\n",
      "Number of Null Row For Each Column : \n"
     ]
    },
    {
     "data": {
      "text/plain": [
       "Unnamed: 0_x                        0\n",
       "time_x                              0\n",
       "type_x                              0\n",
       "collection_id                       0\n",
       "priority_x                          0\n",
       "resource_request.cpus               0\n",
       "resource_request.memory             0\n",
       "scheduling_class_x                  0\n",
       "missing_type_x                2847027\n",
       "collection_type_x                   0\n",
       "alloc_collection_id_x               0\n",
       "instance_index                      0\n",
       "machine_id                     152166\n",
       "alloc_instance_index            98908\n",
       "Unnamed: 0_y                        0\n",
       "time_y                              0\n",
       "type_y                              0\n",
       "priority_y                          0\n",
       "vertical_scaling                    0\n",
       "scheduler                           0\n",
       "scheduling_class_y                  0\n",
       "missing_type_y                2854103\n",
       "collection_type_y                   0\n",
       "alloc_collection_id_y         2755212\n",
       "user                                0\n",
       "collection_name                     0\n",
       "collection_logical_name             0\n",
       "parent_collection_id          1250922\n",
       "start_after_collection_ids    1235758\n",
       "max_per_machine               2811878\n",
       "max_per_switch                2848131\n",
       "dtype: int64"
      ]
     },
     "execution_count": 16,
     "metadata": {},
     "output_type": "execute_result"
    }
   ],
   "source": [
    "print('Merged Events Table')\n",
    "print('Checking Null Values')\n",
    "print('Number of Rows : ', len(merged_job))\n",
    "print('Number of Null Row For All Column : ', merged_job.isna().sum().sum().compute())\n",
    "print('Number of Null Row For Each Column : ')\n",
    "merged_job.isna().sum().compute()"
   ]
  },
  {
   "cell_type": "code",
   "execution_count": 12,
   "id": "7c32c8f4-48af-4dcf-8602-5970182b611f",
   "metadata": {},
   "outputs": [
    {
     "data": {
      "text/html": [
       "<div><strong>Dask DataFrame Structure:</strong></div>\n",
       "<div>\n",
       "<style scoped>\n",
       "    .dataframe tbody tr th:only-of-type {\n",
       "        vertical-align: middle;\n",
       "    }\n",
       "\n",
       "    .dataframe tbody tr th {\n",
       "        vertical-align: top;\n",
       "    }\n",
       "\n",
       "    .dataframe thead th {\n",
       "        text-align: right;\n",
       "    }\n",
       "</style>\n",
       "<table border=\"1\" class=\"dataframe\">\n",
       "  <thead>\n",
       "    <tr style=\"text-align: right;\">\n",
       "      <th></th>\n",
       "      <th>Unnamed: 0_x</th>\n",
       "      <th>time_x</th>\n",
       "      <th>type_x</th>\n",
       "      <th>collection_id</th>\n",
       "      <th>priority_x</th>\n",
       "      <th>resource_request.cpus</th>\n",
       "      <th>resource_request.memory</th>\n",
       "      <th>scheduling_class_x</th>\n",
       "      <th>missing_type_x</th>\n",
       "      <th>collection_type_x</th>\n",
       "      <th>alloc_collection_id_x</th>\n",
       "      <th>instance_index</th>\n",
       "      <th>machine_id</th>\n",
       "      <th>alloc_instance_index</th>\n",
       "      <th>Unnamed: 0_y</th>\n",
       "      <th>time_y</th>\n",
       "      <th>type_y</th>\n",
       "      <th>priority_y</th>\n",
       "      <th>vertical_scaling</th>\n",
       "      <th>scheduler</th>\n",
       "      <th>scheduling_class_y</th>\n",
       "      <th>missing_type_y</th>\n",
       "      <th>collection_type_y</th>\n",
       "      <th>alloc_collection_id_y</th>\n",
       "      <th>user</th>\n",
       "      <th>collection_name</th>\n",
       "      <th>collection_logical_name</th>\n",
       "      <th>parent_collection_id</th>\n",
       "      <th>start_after_collection_ids</th>\n",
       "      <th>max_per_machine</th>\n",
       "      <th>max_per_switch</th>\n",
       "    </tr>\n",
       "    <tr>\n",
       "      <th>npartitions=1</th>\n",
       "      <th></th>\n",
       "      <th></th>\n",
       "      <th></th>\n",
       "      <th></th>\n",
       "      <th></th>\n",
       "      <th></th>\n",
       "      <th></th>\n",
       "      <th></th>\n",
       "      <th></th>\n",
       "      <th></th>\n",
       "      <th></th>\n",
       "      <th></th>\n",
       "      <th></th>\n",
       "      <th></th>\n",
       "      <th></th>\n",
       "      <th></th>\n",
       "      <th></th>\n",
       "      <th></th>\n",
       "      <th></th>\n",
       "      <th></th>\n",
       "      <th></th>\n",
       "      <th></th>\n",
       "      <th></th>\n",
       "      <th></th>\n",
       "      <th></th>\n",
       "      <th></th>\n",
       "      <th></th>\n",
       "      <th></th>\n",
       "      <th></th>\n",
       "      <th></th>\n",
       "      <th></th>\n",
       "    </tr>\n",
       "  </thead>\n",
       "  <tbody>\n",
       "    <tr>\n",
       "      <th></th>\n",
       "      <td>float64</td>\n",
       "      <td>float64</td>\n",
       "      <td>float64</td>\n",
       "      <td>float64</td>\n",
       "      <td>float64</td>\n",
       "      <td>float64</td>\n",
       "      <td>float64</td>\n",
       "      <td>float64</td>\n",
       "      <td>float64</td>\n",
       "      <td>float64</td>\n",
       "      <td>float64</td>\n",
       "      <td>float64</td>\n",
       "      <td>float64</td>\n",
       "      <td>float64</td>\n",
       "      <td>float64</td>\n",
       "      <td>float64</td>\n",
       "      <td>float64</td>\n",
       "      <td>float64</td>\n",
       "      <td>float64</td>\n",
       "      <td>float64</td>\n",
       "      <td>float64</td>\n",
       "      <td>float64</td>\n",
       "      <td>float64</td>\n",
       "      <td>float64</td>\n",
       "      <td>object</td>\n",
       "      <td>object</td>\n",
       "      <td>object</td>\n",
       "      <td>float64</td>\n",
       "      <td>object</td>\n",
       "      <td>float64</td>\n",
       "      <td>float64</td>\n",
       "    </tr>\n",
       "    <tr>\n",
       "      <th></th>\n",
       "      <td>...</td>\n",
       "      <td>...</td>\n",
       "      <td>...</td>\n",
       "      <td>...</td>\n",
       "      <td>...</td>\n",
       "      <td>...</td>\n",
       "      <td>...</td>\n",
       "      <td>...</td>\n",
       "      <td>...</td>\n",
       "      <td>...</td>\n",
       "      <td>...</td>\n",
       "      <td>...</td>\n",
       "      <td>...</td>\n",
       "      <td>...</td>\n",
       "      <td>...</td>\n",
       "      <td>...</td>\n",
       "      <td>...</td>\n",
       "      <td>...</td>\n",
       "      <td>...</td>\n",
       "      <td>...</td>\n",
       "      <td>...</td>\n",
       "      <td>...</td>\n",
       "      <td>...</td>\n",
       "      <td>...</td>\n",
       "      <td>...</td>\n",
       "      <td>...</td>\n",
       "      <td>...</td>\n",
       "      <td>...</td>\n",
       "      <td>...</td>\n",
       "      <td>...</td>\n",
       "      <td>...</td>\n",
       "    </tr>\n",
       "  </tbody>\n",
       "</table>\n",
       "</div>\n",
       "<div>Dask Name: describe, 11545 tasks</div>"
      ],
      "text/plain": [
       "Dask DataFrame Structure:\n",
       "              Unnamed: 0_x   time_x   type_x collection_id priority_x resource_request.cpus resource_request.memory scheduling_class_x missing_type_x collection_type_x alloc_collection_id_x instance_index machine_id alloc_instance_index Unnamed: 0_y   time_y   type_y priority_y vertical_scaling scheduler scheduling_class_y missing_type_y collection_type_y alloc_collection_id_y    user collection_name collection_logical_name parent_collection_id start_after_collection_ids max_per_machine max_per_switch\n",
       "npartitions=1                                                                                                                                                                                                                                                                                                                                                                                                                                                                                                             \n",
       "                   float64  float64  float64       float64    float64               float64                 float64            float64        float64           float64               float64        float64    float64              float64      float64  float64  float64    float64          float64   float64            float64        float64           float64               float64  object          object                  object              float64                     object         float64        float64\n",
       "                       ...      ...      ...           ...        ...                   ...                     ...                ...            ...               ...                   ...            ...        ...                  ...          ...      ...      ...        ...              ...       ...                ...            ...               ...                   ...     ...             ...                     ...                  ...                        ...             ...            ...\n",
       "Dask Name: describe, 11545 tasks"
      ]
     },
     "execution_count": 12,
     "metadata": {},
     "output_type": "execute_result"
    }
   ],
   "source": [
    "merged_job.describe(include = \"all\")"
   ]
  },
  {
   "cell_type": "code",
   "execution_count": 18,
   "id": "494c8d6e-c258-4a19-b93f-cf19757e1d13",
   "metadata": {},
   "outputs": [
    {
     "data": {
      "text/plain": [
       "Text(0.5, 1.0, 'Feature Correlating with Job Failure')"
      ]
     },
     "execution_count": 18,
     "metadata": {},
     "output_type": "execute_result"
    },
    {
     "data": {
      "image/png": "[encoded data removed]",
      "text/plain": [
       "<Figure size 648x1800 with 2 Axes>"
      ]
     },
     "metadata": {
      "needs_background": "light"
     },
     "output_type": "display_data"
    }
   ],
   "source": [
    "plt.figure(figsize=(9,25))\n",
    "heatmap = sns.heatmap(merged_job.corr()[['type_x']].compute().sort_values(by='type_x', ascending=False), vmin=-1, vmax=1, annot=True)\n",
    "heatmap.set_title('Feature Correlating with Job Failure')"
   ]
  },
  {
   "cell_type": "code",
   "execution_count": 13,
   "id": "194003a8-ce11-4817-b1e9-2bfa69743093",
   "metadata": {},
   "outputs": [],
   "source": [
    "merged_job = merged_job.drop(columns=['type_y', 'alloc_collection_id_y', 'parent_collection_id', 'collection_type_y', 'priority_y', 'Unnamed: 0_y', 'missing_type_x', \n",
    "                                      'Unnamed: 0_x', 'machine_id', 'instance_index', 'time_x', 'time_y', 'alloc_collection_id_x', 'scheduling_class_y', 'scheduling_class_x', 'alloc_instance_index', \n",
    "                                      'missing_type_y', 'user', 'collection_name', 'collection_logical_name', 'start_after_collection_ids'])"
   ]
  },
  {
   "cell_type": "code",
   "execution_count": 20,
   "id": "112c9006-82c5-47ad-b790-f8f76ef71ba4",
   "metadata": {},
   "outputs": [
    {
     "name": "stdout",
     "output_type": "stream",
     "text": [
      "Merged Events Table\n",
      "Checking Null Values\n",
      "Number of Rows :  2854121\n",
      "Number of Null Row For All Column :  5660009\n",
      "Number of Null Row For Each Column : \n"
     ]
    },
    {
     "data": {
      "text/plain": [
       "type_x                           0\n",
       "collection_id                    0\n",
       "priority_x                       0\n",
       "resource_request.cpus            0\n",
       "resource_request.memory          0\n",
       "collection_type_x                0\n",
       "vertical_scaling                 0\n",
       "scheduler                        0\n",
       "max_per_machine            2811878\n",
       "max_per_switch             2848131\n",
       "dtype: int64"
      ]
     },
     "execution_count": 20,
     "metadata": {},
     "output_type": "execute_result"
    }
   ],
   "source": [
    "print('Merged Events Table')\n",
    "print('Checking Null Values')\n",
    "print('Number of Rows : ', len(merged_job))\n",
    "print('Number of Null Row For All Column : ', merged_job.isna().sum().sum().compute())\n",
    "print('Number of Null Row For Each Column : ')\n",
    "merged_job.isna().sum().compute()"
   ]
  },
  {
   "cell_type": "code",
   "execution_count": 14,
   "id": "815a3d26-c353-4200-832b-02a42921c32d",
   "metadata": {},
   "outputs": [],
   "source": [
    "merged_job['max_per_machine'] = merged_job['max_per_machine'].fillna(merged_job['max_per_machine'].max())\n",
    "merged_job['max_per_switch'] = merged_job['max_per_switch'].fillna(merged_job['max_per_switch'].max())"
   ]
  },
  {
   "cell_type": "code",
   "execution_count": 15,
   "id": "269e56ab-889e-42e2-8d66-5e6a40000f15",
   "metadata": {},
   "outputs": [],
   "source": [
    "merged_job = merged_job.rename(columns = {'type_x' : 'type', 'priority_x' : 'priority', 'collection_type_x' : 'collection_type'})"
   ]
  },
  {
   "cell_type": "markdown",
   "id": "7c69bb5f-3d6d-4f62-bd89-f622d7445733",
   "metadata": {},
   "source": [
    "### Merged Job with Instance Usage"
   ]
  },
  {
   "cell_type": "markdown",
   "id": "b02bed83-5f57-4361-9cdc-2d0b823f3666",
   "metadata": {},
   "source": [
    "#### Instance Usage New Energy Column"
   ]
  },
  {
   "cell_type": "code",
   "execution_count": 16,
   "id": "119a16cf-72d0-4282-8054-8d29871feee7",
   "metadata": {},
   "outputs": [],
   "source": [
    "inst_usage = dd.read_csv('Dataset/Append Dataset/instance_usage/append_instance_usage.csv', assume_missing = True)"
   ]
  },
  {
   "cell_type": "code",
   "execution_count": 17,
   "id": "44796b2e-08c1-4827-a212-4993186c7802",
   "metadata": {},
   "outputs": [],
   "source": [
    "merged_job = merged_job.merge(inst_usage, left_on='collection_id', right_on='collection_id')"
   ]
  },
  {
   "cell_type": "code",
   "execution_count": 18,
   "id": "43edfc1e-21ae-41fa-b766-21ddc097122a",
   "metadata": {},
   "outputs": [
    {
     "data": {
      "text/html": [
       "<div><strong>Dask DataFrame Structure:</strong></div>\n",
       "<div>\n",
       "<style scoped>\n",
       "    .dataframe tbody tr th:only-of-type {\n",
       "        vertical-align: middle;\n",
       "    }\n",
       "\n",
       "    .dataframe tbody tr th {\n",
       "        vertical-align: top;\n",
       "    }\n",
       "\n",
       "    .dataframe thead th {\n",
       "        text-align: right;\n",
       "    }\n",
       "</style>\n",
       "<table border=\"1\" class=\"dataframe\">\n",
       "  <thead>\n",
       "    <tr style=\"text-align: right;\">\n",
       "      <th></th>\n",
       "      <th>type</th>\n",
       "      <th>collection_id</th>\n",
       "      <th>priority</th>\n",
       "      <th>resource_request.cpus</th>\n",
       "      <th>resource_request.memory</th>\n",
       "      <th>collection_type_x</th>\n",
       "      <th>vertical_scaling</th>\n",
       "      <th>scheduler</th>\n",
       "      <th>max_per_machine</th>\n",
       "      <th>max_per_switch</th>\n",
       "      <th>Unnamed: 0</th>\n",
       "      <th>start_time</th>\n",
       "      <th>end_time</th>\n",
       "      <th>instance_index</th>\n",
       "      <th>machine_id</th>\n",
       "      <th>alloc_collection_id</th>\n",
       "      <th>alloc_instance_index</th>\n",
       "      <th>collection_type_y</th>\n",
       "      <th>average_usage.cpus</th>\n",
       "      <th>average_usage.memory</th>\n",
       "      <th>maximum_usage.cpus</th>\n",
       "      <th>maximum_usage.memory</th>\n",
       "      <th>random_sample_usage.cpus</th>\n",
       "      <th>assigned_memory</th>\n",
       "      <th>page_cache_memory</th>\n",
       "      <th>cycles_per_instruction</th>\n",
       "      <th>memory_accesses_per_instruction</th>\n",
       "      <th>sample_rate</th>\n",
       "      <th>cpu_usage_distribution</th>\n",
       "      <th>tail_cpu_usage_distribution.0</th>\n",
       "      <th>tail_cpu_usage_distribution.1</th>\n",
       "      <th>tail_cpu_usage_distribution.2</th>\n",
       "      <th>tail_cpu_usage_distribution.3</th>\n",
       "      <th>tail_cpu_usage_distribution.4</th>\n",
       "      <th>tail_cpu_usage_distribution.5</th>\n",
       "      <th>tail_cpu_usage_distribution.6</th>\n",
       "      <th>tail_cpu_usage_distribution.7</th>\n",
       "      <th>tail_cpu_usage_distribution.8</th>\n",
       "      <th>cpu_usage_distribution.0</th>\n",
       "      <th>cpu_usage_distribution.1</th>\n",
       "      <th>cpu_usage_distribution.2</th>\n",
       "      <th>cpu_usage_distribution.3</th>\n",
       "      <th>cpu_usage_distribution.4</th>\n",
       "      <th>cpu_usage_distribution.5</th>\n",
       "      <th>cpu_usage_distribution.6</th>\n",
       "      <th>cpu_usage_distribution.7</th>\n",
       "      <th>cpu_usage_distribution.8</th>\n",
       "      <th>cpu_usage_distribution.9</th>\n",
       "      <th>cpu_usage_distribution.10</th>\n",
       "      <th>tail_cpu_usage_distribution</th>\n",
       "    </tr>\n",
       "    <tr>\n",
       "      <th>npartitions=1</th>\n",
       "      <th></th>\n",
       "      <th></th>\n",
       "      <th></th>\n",
       "      <th></th>\n",
       "      <th></th>\n",
       "      <th></th>\n",
       "      <th></th>\n",
       "      <th></th>\n",
       "      <th></th>\n",
       "      <th></th>\n",
       "      <th></th>\n",
       "      <th></th>\n",
       "      <th></th>\n",
       "      <th></th>\n",
       "      <th></th>\n",
       "      <th></th>\n",
       "      <th></th>\n",
       "      <th></th>\n",
       "      <th></th>\n",
       "      <th></th>\n",
       "      <th></th>\n",
       "      <th></th>\n",
       "      <th></th>\n",
       "      <th></th>\n",
       "      <th></th>\n",
       "      <th></th>\n",
       "      <th></th>\n",
       "      <th></th>\n",
       "      <th></th>\n",
       "      <th></th>\n",
       "      <th></th>\n",
       "      <th></th>\n",
       "      <th></th>\n",
       "      <th></th>\n",
       "      <th></th>\n",
       "      <th></th>\n",
       "      <th></th>\n",
       "      <th></th>\n",
       "      <th></th>\n",
       "      <th></th>\n",
       "      <th></th>\n",
       "      <th></th>\n",
       "      <th></th>\n",
       "      <th></th>\n",
       "      <th></th>\n",
       "      <th></th>\n",
       "      <th></th>\n",
       "      <th></th>\n",
       "      <th></th>\n",
       "      <th></th>\n",
       "    </tr>\n",
       "  </thead>\n",
       "  <tbody>\n",
       "    <tr>\n",
       "      <th></th>\n",
       "      <td>float64</td>\n",
       "      <td>float64</td>\n",
       "      <td>float64</td>\n",
       "      <td>float64</td>\n",
       "      <td>float64</td>\n",
       "      <td>float64</td>\n",
       "      <td>float64</td>\n",
       "      <td>float64</td>\n",
       "      <td>float64</td>\n",
       "      <td>float64</td>\n",
       "      <td>float64</td>\n",
       "      <td>float64</td>\n",
       "      <td>float64</td>\n",
       "      <td>float64</td>\n",
       "      <td>float64</td>\n",
       "      <td>float64</td>\n",
       "      <td>float64</td>\n",
       "      <td>float64</td>\n",
       "      <td>float64</td>\n",
       "      <td>float64</td>\n",
       "      <td>float64</td>\n",
       "      <td>float64</td>\n",
       "      <td>float64</td>\n",
       "      <td>float64</td>\n",
       "      <td>float64</td>\n",
       "      <td>float64</td>\n",
       "      <td>float64</td>\n",
       "      <td>float64</td>\n",
       "      <td>float64</td>\n",
       "      <td>float64</td>\n",
       "      <td>float64</td>\n",
       "      <td>float64</td>\n",
       "      <td>float64</td>\n",
       "      <td>float64</td>\n",
       "      <td>float64</td>\n",
       "      <td>float64</td>\n",
       "      <td>float64</td>\n",
       "      <td>float64</td>\n",
       "      <td>float64</td>\n",
       "      <td>float64</td>\n",
       "      <td>float64</td>\n",
       "      <td>float64</td>\n",
       "      <td>float64</td>\n",
       "      <td>float64</td>\n",
       "      <td>float64</td>\n",
       "      <td>float64</td>\n",
       "      <td>float64</td>\n",
       "      <td>float64</td>\n",
       "      <td>float64</td>\n",
       "      <td>float64</td>\n",
       "    </tr>\n",
       "    <tr>\n",
       "      <th></th>\n",
       "      <td>...</td>\n",
       "      <td>...</td>\n",
       "      <td>...</td>\n",
       "      <td>...</td>\n",
       "      <td>...</td>\n",
       "      <td>...</td>\n",
       "      <td>...</td>\n",
       "      <td>...</td>\n",
       "      <td>...</td>\n",
       "      <td>...</td>\n",
       "      <td>...</td>\n",
       "      <td>...</td>\n",
       "      <td>...</td>\n",
       "      <td>...</td>\n",
       "      <td>...</td>\n",
       "      <td>...</td>\n",
       "      <td>...</td>\n",
       "      <td>...</td>\n",
       "      <td>...</td>\n",
       "      <td>...</td>\n",
       "      <td>...</td>\n",
       "      <td>...</td>\n",
       "      <td>...</td>\n",
       "      <td>...</td>\n",
       "      <td>...</td>\n",
       "      <td>...</td>\n",
       "      <td>...</td>\n",
       "      <td>...</td>\n",
       "      <td>...</td>\n",
       "      <td>...</td>\n",
       "      <td>...</td>\n",
       "      <td>...</td>\n",
       "      <td>...</td>\n",
       "      <td>...</td>\n",
       "      <td>...</td>\n",
       "      <td>...</td>\n",
       "      <td>...</td>\n",
       "      <td>...</td>\n",
       "      <td>...</td>\n",
       "      <td>...</td>\n",
       "      <td>...</td>\n",
       "      <td>...</td>\n",
       "      <td>...</td>\n",
       "      <td>...</td>\n",
       "      <td>...</td>\n",
       "      <td>...</td>\n",
       "      <td>...</td>\n",
       "      <td>...</td>\n",
       "      <td>...</td>\n",
       "      <td>...</td>\n",
       "    </tr>\n",
       "  </tbody>\n",
       "</table>\n",
       "</div>\n",
       "<div>Dask Name: describe, 291397 tasks</div>"
      ],
      "text/plain": [
       "Dask DataFrame Structure:\n",
       "                  type collection_id priority resource_request.cpus resource_request.memory collection_type_x vertical_scaling scheduler max_per_machine max_per_switch Unnamed: 0 start_time end_time instance_index machine_id alloc_collection_id alloc_instance_index collection_type_y average_usage.cpus average_usage.memory maximum_usage.cpus maximum_usage.memory random_sample_usage.cpus assigned_memory page_cache_memory cycles_per_instruction memory_accesses_per_instruction sample_rate cpu_usage_distribution tail_cpu_usage_distribution.0 tail_cpu_usage_distribution.1 tail_cpu_usage_distribution.2 tail_cpu_usage_distribution.3 tail_cpu_usage_distribution.4 tail_cpu_usage_distribution.5 tail_cpu_usage_distribution.6 tail_cpu_usage_distribution.7 tail_cpu_usage_distribution.8 cpu_usage_distribution.0 cpu_usage_distribution.1 cpu_usage_distribution.2 cpu_usage_distribution.3 cpu_usage_distribution.4 cpu_usage_distribution.5 cpu_usage_distribution.6 cpu_usage_distribution.7 cpu_usage_distribution.8 cpu_usage_distribution.9 cpu_usage_distribution.10 tail_cpu_usage_distribution\n",
       "npartitions=1                                                                                                                                                                                                                                                                                                                                                                                                                                                                                                                                                                                                                                                                                                                                                                                                                                                                                                                                                                                                                                                                                                                 \n",
       "               float64       float64  float64               float64                 float64           float64          float64   float64         float64        float64    float64    float64  float64        float64    float64             float64              float64           float64            float64              float64            float64              float64                  float64         float64           float64                float64                         float64     float64                float64                       float64                       float64                       float64                       float64                       float64                       float64                       float64                       float64                       float64                  float64                  float64                  float64                  float64                  float64                  float64                  float64                  float64                  float64                  float64                   float64                     float64\n",
       "                   ...           ...      ...                   ...                     ...               ...              ...       ...             ...            ...        ...        ...      ...            ...        ...                 ...                  ...               ...                ...                  ...                ...                  ...                      ...             ...               ...                    ...                             ...         ...                    ...                           ...                           ...                           ...                           ...                           ...                           ...                           ...                           ...                           ...                      ...                      ...                      ...                      ...                      ...                      ...                      ...                      ...                      ...                      ...                       ...                         ...\n",
       "Dask Name: describe, 291397 tasks"
      ]
     },
     "execution_count": 18,
     "metadata": {},
     "output_type": "execute_result"
    }
   ],
   "source": [
    "merged_job.describe(include = \"all\")"
   ]
  },
  {
   "cell_type": "code",
   "execution_count": 26,
   "id": "260e056e-e87f-4e4d-a1f7-d6239b124db1",
   "metadata": {},
   "outputs": [
    {
     "data": {
      "text/plain": [
       "Text(0.5, 1.0, 'Feature Correlating with Job Failure')"
      ]
     },
     "execution_count": 26,
     "metadata": {},
     "output_type": "execute_result"
    },
    {
     "data": {
      "image/png": "[encoded data removed]",
      "text/plain": [
       "<Figure size 648x1800 with 2 Axes>"
      ]
     },
     "metadata": {
      "needs_background": "light"
     },
     "output_type": "display_data"
    }
   ],
   "source": [
    "plt.figure(figsize=(9,25))\n",
    "heatmap = sns.heatmap(merged_job.corr()[['type']].compute().sort_values(by='type', ascending=False), vmin=-1, vmax=1, annot=True)\n",
    "heatmap.set_title('Feature Correlating with Job Failure')"
   ]
  },
  {
   "cell_type": "code",
   "execution_count": 19,
   "id": "f5a199e6-4f74-4edc-9efa-b83bfba30cf4",
   "metadata": {},
   "outputs": [],
   "source": [
    "merged_job = merged_job.drop(columns=['collection_type_y', 'Unnamed: 0', 'sample_rate', 'cycles_per_instruction', 'cpu_usage_distribution.6', 'cpu_usage_distribution.7', \n",
    "                                      'cpu_usage_distribution.8', 'cpu_usage_distribution.9', 'cpu_usage_distribution.10', 'page_cache_memory', 'maximum_usage.memory', 'average_usage.memory', \n",
    "                                      'machine_id', 'random_sample_usage.cpus', 'average_usage.cpus', 'maximum_usage.cpus', 'instance_index', 'alloc_instance_index', 'tail_cpu_usage_distribution.0', \n",
    "                                      'tail_cpu_usage_distribution.1', 'tail_cpu_usage_distribution.2', 'tail_cpu_usage_distribution.3', 'tail_cpu_usage_distribution.4', 'tail_cpu_usage_distribution.5', \n",
    "                                      'tail_cpu_usage_distribution.6', 'tail_cpu_usage_distribution.7', 'tail_cpu_usage_distribution.8', 'alloc_collection_id', 'tail_cpu_usage_distribution', \n",
    "                                      'max_per_machine', 'max_per_switch'])"
   ]
  },
  {
   "cell_type": "code",
   "execution_count": 20,
   "id": "ec5dfac9-967e-44d0-be2e-cd8c40fc6cff",
   "metadata": {},
   "outputs": [
    {
     "data": {
      "text/html": [
       "<div><strong>Dask DataFrame Structure:</strong></div>\n",
       "<div>\n",
       "<style scoped>\n",
       "    .dataframe tbody tr th:only-of-type {\n",
       "        vertical-align: middle;\n",
       "    }\n",
       "\n",
       "    .dataframe tbody tr th {\n",
       "        vertical-align: top;\n",
       "    }\n",
       "\n",
       "    .dataframe thead th {\n",
       "        text-align: right;\n",
       "    }\n",
       "</style>\n",
       "<table border=\"1\" class=\"dataframe\">\n",
       "  <thead>\n",
       "    <tr style=\"text-align: right;\">\n",
       "      <th></th>\n",
       "      <th>type</th>\n",
       "      <th>collection_id</th>\n",
       "      <th>priority</th>\n",
       "      <th>resource_request.cpus</th>\n",
       "      <th>resource_request.memory</th>\n",
       "      <th>collection_type_x</th>\n",
       "      <th>vertical_scaling</th>\n",
       "      <th>scheduler</th>\n",
       "      <th>start_time</th>\n",
       "      <th>end_time</th>\n",
       "      <th>assigned_memory</th>\n",
       "      <th>memory_accesses_per_instruction</th>\n",
       "      <th>cpu_usage_distribution</th>\n",
       "      <th>cpu_usage_distribution.0</th>\n",
       "      <th>cpu_usage_distribution.1</th>\n",
       "      <th>cpu_usage_distribution.2</th>\n",
       "      <th>cpu_usage_distribution.3</th>\n",
       "      <th>cpu_usage_distribution.4</th>\n",
       "      <th>cpu_usage_distribution.5</th>\n",
       "    </tr>\n",
       "    <tr>\n",
       "      <th>npartitions=1</th>\n",
       "      <th></th>\n",
       "      <th></th>\n",
       "      <th></th>\n",
       "      <th></th>\n",
       "      <th></th>\n",
       "      <th></th>\n",
       "      <th></th>\n",
       "      <th></th>\n",
       "      <th></th>\n",
       "      <th></th>\n",
       "      <th></th>\n",
       "      <th></th>\n",
       "      <th></th>\n",
       "      <th></th>\n",
       "      <th></th>\n",
       "      <th></th>\n",
       "      <th></th>\n",
       "      <th></th>\n",
       "      <th></th>\n",
       "    </tr>\n",
       "  </thead>\n",
       "  <tbody>\n",
       "    <tr>\n",
       "      <th></th>\n",
       "      <td>float64</td>\n",
       "      <td>float64</td>\n",
       "      <td>float64</td>\n",
       "      <td>float64</td>\n",
       "      <td>float64</td>\n",
       "      <td>float64</td>\n",
       "      <td>float64</td>\n",
       "      <td>float64</td>\n",
       "      <td>float64</td>\n",
       "      <td>float64</td>\n",
       "      <td>float64</td>\n",
       "      <td>float64</td>\n",
       "      <td>float64</td>\n",
       "      <td>float64</td>\n",
       "      <td>float64</td>\n",
       "      <td>float64</td>\n",
       "      <td>float64</td>\n",
       "      <td>float64</td>\n",
       "      <td>float64</td>\n",
       "    </tr>\n",
       "    <tr>\n",
       "      <th></th>\n",
       "      <td>...</td>\n",
       "      <td>...</td>\n",
       "      <td>...</td>\n",
       "      <td>...</td>\n",
       "      <td>...</td>\n",
       "      <td>...</td>\n",
       "      <td>...</td>\n",
       "      <td>...</td>\n",
       "      <td>...</td>\n",
       "      <td>...</td>\n",
       "      <td>...</td>\n",
       "      <td>...</td>\n",
       "      <td>...</td>\n",
       "      <td>...</td>\n",
       "      <td>...</td>\n",
       "      <td>...</td>\n",
       "      <td>...</td>\n",
       "      <td>...</td>\n",
       "      <td>...</td>\n",
       "    </tr>\n",
       "  </tbody>\n",
       "</table>\n",
       "</div>\n",
       "<div>Dask Name: describe, 118891 tasks</div>"
      ],
      "text/plain": [
       "Dask DataFrame Structure:\n",
       "                  type collection_id priority resource_request.cpus resource_request.memory collection_type_x vertical_scaling scheduler start_time end_time assigned_memory memory_accesses_per_instruction cpu_usage_distribution cpu_usage_distribution.0 cpu_usage_distribution.1 cpu_usage_distribution.2 cpu_usage_distribution.3 cpu_usage_distribution.4 cpu_usage_distribution.5\n",
       "npartitions=1                                                                                                                                                                                                                                                                                                                                                                            \n",
       "               float64       float64  float64               float64                 float64           float64          float64   float64    float64  float64         float64                         float64                float64                  float64                  float64                  float64                  float64                  float64                  float64\n",
       "                   ...           ...      ...                   ...                     ...               ...              ...       ...        ...      ...             ...                             ...                    ...                      ...                      ...                      ...                      ...                      ...                      ...\n",
       "Dask Name: describe, 118891 tasks"
      ]
     },
     "execution_count": 20,
     "metadata": {},
     "output_type": "execute_result"
    }
   ],
   "source": [
    "merged_job.describe(include = \"all\")"
   ]
  },
  {
   "cell_type": "code",
   "execution_count": 21,
   "id": "56e76cb2-3555-41c8-b5fb-9cc83389f74b",
   "metadata": {},
   "outputs": [],
   "source": [
    "merged_job = merged_job.assign(timestamp = merged_job['end_time'] - merged_job['start_time'])"
   ]
  },
  {
   "cell_type": "code",
   "execution_count": 22,
   "id": "f4ad5f93-4a8d-481f-8cf4-23e5ec60db83",
   "metadata": {},
   "outputs": [],
   "source": [
    "merged_job = merged_job.drop(columns=['start_time', 'end_time'])"
   ]
  },
  {
   "cell_type": "code",
   "execution_count": 23,
   "id": "7fcb69e8-9f14-42a8-91e4-2143eb69e2bc",
   "metadata": {},
   "outputs": [],
   "source": [
    "merged_job = merged_job[['timestamp', 'type', 'collection_id', 'priority','resource_request.cpus', 'resource_request.memory', 'collection_type_x', 'vertical_scaling', 'scheduler', 'assigned_memory','memory_accesses_per_instruction', \n",
    "                         'cpu_usage_distribution.0', 'cpu_usage_distribution.1', 'cpu_usage_distribution.2', 'cpu_usage_distribution.3', 'cpu_usage_distribution.4', 'cpu_usage_distribution.5']]"
   ]
  },
  {
   "cell_type": "code",
   "execution_count": 24,
   "id": "8ccbdc50-51eb-4850-bf2e-ccd11fb090af",
   "metadata": {},
   "outputs": [],
   "source": [
    "merged_job = merged_job.rename(columns = {'collection_type_x' : 'collection_type'})"
   ]
  },
  {
   "cell_type": "code",
   "execution_count": 25,
   "id": "34860f1f-ab9d-43aa-82bc-a14b578d4c3c",
   "metadata": {},
   "outputs": [
    {
     "data": {
      "text/html": [
       "<div><strong>Dask DataFrame Structure:</strong></div>\n",
       "<div>\n",
       "<style scoped>\n",
       "    .dataframe tbody tr th:only-of-type {\n",
       "        vertical-align: middle;\n",
       "    }\n",
       "\n",
       "    .dataframe tbody tr th {\n",
       "        vertical-align: top;\n",
       "    }\n",
       "\n",
       "    .dataframe thead th {\n",
       "        text-align: right;\n",
       "    }\n",
       "</style>\n",
       "<table border=\"1\" class=\"dataframe\">\n",
       "  <thead>\n",
       "    <tr style=\"text-align: right;\">\n",
       "      <th></th>\n",
       "      <th>timestamp</th>\n",
       "      <th>type</th>\n",
       "      <th>collection_id</th>\n",
       "      <th>priority</th>\n",
       "      <th>resource_request.cpus</th>\n",
       "      <th>resource_request.memory</th>\n",
       "      <th>collection_type</th>\n",
       "      <th>vertical_scaling</th>\n",
       "      <th>scheduler</th>\n",
       "      <th>assigned_memory</th>\n",
       "      <th>memory_accesses_per_instruction</th>\n",
       "      <th>cpu_usage_distribution.0</th>\n",
       "      <th>cpu_usage_distribution.1</th>\n",
       "      <th>cpu_usage_distribution.2</th>\n",
       "      <th>cpu_usage_distribution.3</th>\n",
       "      <th>cpu_usage_distribution.4</th>\n",
       "      <th>cpu_usage_distribution.5</th>\n",
       "    </tr>\n",
       "    <tr>\n",
       "      <th>npartitions=1</th>\n",
       "      <th></th>\n",
       "      <th></th>\n",
       "      <th></th>\n",
       "      <th></th>\n",
       "      <th></th>\n",
       "      <th></th>\n",
       "      <th></th>\n",
       "      <th></th>\n",
       "      <th></th>\n",
       "      <th></th>\n",
       "      <th></th>\n",
       "      <th></th>\n",
       "      <th></th>\n",
       "      <th></th>\n",
       "      <th></th>\n",
       "      <th></th>\n",
       "      <th></th>\n",
       "    </tr>\n",
       "  </thead>\n",
       "  <tbody>\n",
       "    <tr>\n",
       "      <th></th>\n",
       "      <td>float64</td>\n",
       "      <td>float64</td>\n",
       "      <td>float64</td>\n",
       "      <td>float64</td>\n",
       "      <td>float64</td>\n",
       "      <td>float64</td>\n",
       "      <td>float64</td>\n",
       "      <td>float64</td>\n",
       "      <td>float64</td>\n",
       "      <td>float64</td>\n",
       "      <td>float64</td>\n",
       "      <td>float64</td>\n",
       "      <td>float64</td>\n",
       "      <td>float64</td>\n",
       "      <td>float64</td>\n",
       "      <td>float64</td>\n",
       "      <td>float64</td>\n",
       "    </tr>\n",
       "    <tr>\n",
       "      <th></th>\n",
       "      <td>...</td>\n",
       "      <td>...</td>\n",
       "      <td>...</td>\n",
       "      <td>...</td>\n",
       "      <td>...</td>\n",
       "      <td>...</td>\n",
       "      <td>...</td>\n",
       "      <td>...</td>\n",
       "      <td>...</td>\n",
       "      <td>...</td>\n",
       "      <td>...</td>\n",
       "      <td>...</td>\n",
       "      <td>...</td>\n",
       "      <td>...</td>\n",
       "      <td>...</td>\n",
       "      <td>...</td>\n",
       "      <td>...</td>\n",
       "    </tr>\n",
       "  </tbody>\n",
       "</table>\n",
       "</div>\n",
       "<div>Dask Name: describe, 111902 tasks</div>"
      ],
      "text/plain": [
       "Dask DataFrame Structure:\n",
       "              timestamp     type collection_id priority resource_request.cpus resource_request.memory collection_type vertical_scaling scheduler assigned_memory memory_accesses_per_instruction cpu_usage_distribution.0 cpu_usage_distribution.1 cpu_usage_distribution.2 cpu_usage_distribution.3 cpu_usage_distribution.4 cpu_usage_distribution.5\n",
       "npartitions=1                                                                                                                                                                                                                                                                                                                                         \n",
       "                float64  float64       float64  float64               float64                 float64         float64          float64   float64         float64                         float64                  float64                  float64                  float64                  float64                  float64                  float64\n",
       "                    ...      ...           ...      ...                   ...                     ...             ...              ...       ...             ...                             ...                      ...                      ...                      ...                      ...                      ...                      ...\n",
       "Dask Name: describe, 111902 tasks"
      ]
     },
     "execution_count": 25,
     "metadata": {},
     "output_type": "execute_result"
    }
   ],
   "source": [
    "merged_job.describe(include = \"all\")"
   ]
  },
  {
   "cell_type": "code",
   "execution_count": 26,
   "id": "90dec7c0-8d6a-4591-abd8-af9be8969f54",
   "metadata": {},
   "outputs": [
    {
     "data": {
      "text/plain": [
       "['F:/Files/TraceDataset/Output/Dataset/merged_job.csv']"
      ]
     },
     "execution_count": 26,
     "metadata": {},
     "output_type": "execute_result"
    }
   ],
   "source": [
    "merged_job.to_csv('Dataset/merged_job.csv', single_file = True)"
   ]
  }
 ],
 "metadata": {
  "kernelspec": {
   "display_name": "Python 3 (ipykernel)",
   "language": "python",
   "name": "python3"
  },
  "language_info": {
   "codemirror_mode": {
    "name": "ipython",
    "version": 3
   },
   "file_extension": ".py",
   "mimetype": "text/x-python",
   "name": "python",
   "nbconvert_exporter": "python",
   "pygments_lexer": "ipython3",
   "version": "3.8.12"
  }
 },
 "nbformat": 4,
 "nbformat_minor": 5
}
